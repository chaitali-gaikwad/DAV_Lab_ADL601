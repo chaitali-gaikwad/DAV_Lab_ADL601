{
  "nbformat": 4,
  "nbformat_minor": 0,
  "metadata": {
    "colab": {
      "provenance": []
    },
    "kernelspec": {
      "name": "ir",
      "display_name": "R"
    },
    "language_info": {
      "name": "R"
    }
  },
  "cells": [
    {
      "cell_type": "markdown",
      "source": [
        "# **Text Analyzation in Python**\n",
        "\n",
        "1. **NLTK (Natural Language Toolkit)**: NLTK is one of the most widely used libraries for natural language processing (NLP) and text analysis in Python. It provides easy-to-use interfaces to over 50 corpora and lexical resources, along with a suite of text processing libraries for tokenization, stemming, tagging, parsing, and semantic reasoning.\n",
        "\n",
        "2.   **spaCy**: spaCy is a modern and efficient NLP library designed for production use. It offers pre-trained models for various languages and provides easy-to-use APIs for performing tokenization, part-of-speech tagging, named entity recognition, dependency parsing, and sentence segmentation.\n",
        "\n",
        "3.   **TextBlob**: TextBlob is a simple and beginner-friendly library for text processing and sentiment analysis in Python. It offers a consistent API for common NLP tasks such as part-of-speech tagging, noun phrase extraction, sentiment analysis, translation, and classification.\n",
        "\n",
        "4.   **Gensim**: Gensim is a robust library for topic modeling, document similarity analysis, and word vector representations in Python. Gensim is optimized for large-scale text corpora and provides tools for discovering hidden semantic structures within documents, identifying topics, and calculating document similarities.\n",
        "\n",
        "5.   **Transformers (Hugging Face)**:Transformers, developed by Hugging Face, is a state-of-the-art library for natural language understanding and generation tasks using transformer-based models like BERT, GPT, and RoBERTa. It provides pre-trained models and fine-tuning pipelines for various NLP tasks, including text classification, named entity recognition, question answering, summarization, and text generation."
      ],
      "metadata": {
        "id": "CXiGKbVtVnJP"
      }
    },
    {
      "cell_type": "code",
      "execution_count": null,
      "metadata": {
        "colab": {
          "base_uri": "https://localhost:8080/"
        },
        "id": "RE_kaAGYG1Tw",
        "outputId": "0ecc3f46-3f1f-422e-85c1-c8f57819183f"
      },
      "outputs": [
        {
          "output_type": "stream",
          "name": "stderr",
          "text": [
            "[nltk_data] Downloading package punkt to /root/nltk_data...\n",
            "[nltk_data]   Package punkt is already up-to-date!\n",
            "[nltk_data] Downloading package stopwords to /root/nltk_data...\n",
            "[nltk_data]   Package stopwords is already up-to-date!\n",
            "[nltk_data] Downloading package wordnet to /root/nltk_data...\n",
            "[nltk_data]   Package wordnet is already up-to-date!\n",
            "[nltk_data] Downloading package averaged_perceptron_tagger to\n",
            "[nltk_data]     /root/nltk_data...\n",
            "[nltk_data]   Package averaged_perceptron_tagger is already up-to-\n",
            "[nltk_data]       date!\n",
            "[nltk_data] Downloading package maxent_ne_chunker to\n",
            "[nltk_data]     /root/nltk_data...\n",
            "[nltk_data]   Package maxent_ne_chunker is already up-to-date!\n",
            "[nltk_data] Downloading package words to /root/nltk_data...\n",
            "[nltk_data]   Package words is already up-to-date!\n"
          ]
        },
        {
          "output_type": "execute_result",
          "data": {
            "text/plain": [
              "True"
            ]
          },
          "metadata": {},
          "execution_count": 33
        }
      ],
      "source": [
        "import nltk\n",
        "from nltk.tokenize import sent_tokenize, word_tokenize\n",
        "from nltk.probability import FreqDist\n",
        "from nltk.corpus import stopwords\n",
        "from nltk.stem import PorterStemmer, WordNetLemmatizer\n",
        "from nltk.tag import pos_tag\n",
        "from nltk.chunk import ne_chunk\n",
        "import matplotlib.pyplot as plt\n",
        "nltk.download('punkt')\n",
        "nltk.download('stopwords')\n",
        "nltk.download('wordnet')\n",
        "nltk.download('averaged_perceptron_tagger')\n",
        "nltk.download('maxent_ne_chunker')\n",
        "nltk.download('words')"
      ]
    },
    {
      "cell_type": "code",
      "source": [
        "# Sample story of turtle and rabbit\n",
        "story = \"\"\"\n",
        "Once upon a time, there lived a turtle and a rabbit in a beautiful forest. The rabbit was very fast, while the turtle was slow but steady. One day, they decided to have a race.\n",
        "The rabbit, being overconfident, took a nap during the race while the turtle kept moving forward. When the rabbit woke up, he saw the turtle near the finish line. However, it was too late. The turtle had won the race!\n",
        "\"\"\""
      ],
      "metadata": {
        "id": "IvTp5TkZHmfm"
      },
      "execution_count": null,
      "outputs": []
    },
    {
      "cell_type": "code",
      "source": [
        "story2 = \"\"\"Once, there was a John who became bored when he watched over the village sheep grazing on the hillside. To entertain himself, he sang out, “Wolf! Wolf! The wolf is chasing the sheep!”\n",
        "When the villagers heard the cry, they ran up the hill to drive the wolf away. But when they arrived, they saw no wolf. The John was amused when he saw their angry faces.\n",
        "“Don’t scream wolf when there is no wolf, John!” the villagers warned. They angrily went back down the hill.\n",
        "Later, the shepherd John cried out once again, “Wolf! Wolf! The wolf is chasing the sheep!” To his amusement, the villagers came running up the hill to scare the wolf away.\n",
        "As they saw there was no wolf, they said strictly, “Save your frightened cry for when there really is a wolf! Don’t cry ‘wolf’ when there is no wolf!” But the John grinned at their words while they walked, grumbling down the hill once more.\n",
        "Later, the John saw a real wolf sneaking around his flock. Alarmed, he jumped on his feet and cried out as loud as he could, “Wolf! Wolf!” But the villagers thought he was fooling them again, and they didn’t come to help.\n",
        "At sunset, the villagers went looking for the John who hadn’t returned with their sheep. When they went up the hill, they found him weeping.\n",
        "“There was a wolf here! The flock is gone! I cried out, ‘Wolf!’ but you didn’t come,” he wailed.\"\"\""
      ],
      "metadata": {
        "id": "xEd-eIUOOGgN"
      },
      "execution_count": null,
      "outputs": []
    },
    {
      "cell_type": "code",
      "source": [
        "# Tokenization (Sentence & Word)\n",
        "sentences = sent_tokenize(story2)\n",
        "words = word_tokenize(story2)\n",
        "\n",
        "print(\"1. Tokenization (Sentence & Word):\")\n",
        "print(\"Sentences:\", sentences)\n",
        "print(\"Words:\", words)"
      ],
      "metadata": {
        "colab": {
          "base_uri": "https://localhost:8080/"
        },
        "id": "Rx6K9HypHa8X",
        "outputId": "0127a848-bc15-42e6-b8ea-3c16d419ea2a"
      },
      "execution_count": null,
      "outputs": [
        {
          "output_type": "stream",
          "name": "stdout",
          "text": [
            "1. Tokenization (Sentence & Word):\n",
            "Sentences: ['Once, there was a John who became bored when he watched over the village sheep grazing on the hillside.', 'To entertain himself, he sang out, “Wolf!', 'Wolf!', 'The wolf is chasing the sheep!”\\nWhen the villagers heard the cry, they ran up the hill to drive the wolf away.', 'But when they arrived, they saw no wolf.', 'The John was amused when he saw their angry faces.', '“Don’t scream wolf when there is no wolf, John!” the villagers warned.', 'They angrily went back down the hill.', 'Later, the shepherd John cried out once again, “Wolf!', 'Wolf!', 'The wolf is chasing the sheep!” To his amusement, the villagers came running up the hill to scare the wolf away.', 'As they saw there was no wolf, they said strictly, “Save your frightened cry for when there really is a wolf!', 'Don’t cry ‘wolf’ when there is no wolf!” But the John grinned at their words while they walked, grumbling down the hill once more.', 'Later, the John saw a real wolf sneaking around his flock.', 'Alarmed, he jumped on his feet and cried out as loud as he could, “Wolf!', 'Wolf!” But the villagers thought he was fooling them again, and they didn’t come to help.', 'At sunset, the villagers went looking for the John who hadn’t returned with their sheep.', 'When they went up the hill, they found him weeping.', '“There was a wolf here!', 'The flock is gone!', 'I cried out, ‘Wolf!’ but you didn’t come,” he wailed.']\n",
            "Words: ['Once', ',', 'there', 'was', 'a', 'John', 'who', 'became', 'bored', 'when', 'he', 'watched', 'over', 'the', 'village', 'sheep', 'grazing', 'on', 'the', 'hillside', '.', 'To', 'entertain', 'himself', ',', 'he', 'sang', 'out', ',', '“', 'Wolf', '!', 'Wolf', '!', 'The', 'wolf', 'is', 'chasing', 'the', 'sheep', '!', '”', 'When', 'the', 'villagers', 'heard', 'the', 'cry', ',', 'they', 'ran', 'up', 'the', 'hill', 'to', 'drive', 'the', 'wolf', 'away', '.', 'But', 'when', 'they', 'arrived', ',', 'they', 'saw', 'no', 'wolf', '.', 'The', 'John', 'was', 'amused', 'when', 'he', 'saw', 'their', 'angry', 'faces', '.', '“', 'Don', '’', 't', 'scream', 'wolf', 'when', 'there', 'is', 'no', 'wolf', ',', 'John', '!', '”', 'the', 'villagers', 'warned', '.', 'They', 'angrily', 'went', 'back', 'down', 'the', 'hill', '.', 'Later', ',', 'the', 'shepherd', 'John', 'cried', 'out', 'once', 'again', ',', '“', 'Wolf', '!', 'Wolf', '!', 'The', 'wolf', 'is', 'chasing', 'the', 'sheep', '!', '”', 'To', 'his', 'amusement', ',', 'the', 'villagers', 'came', 'running', 'up', 'the', 'hill', 'to', 'scare', 'the', 'wolf', 'away', '.', 'As', 'they', 'saw', 'there', 'was', 'no', 'wolf', ',', 'they', 'said', 'strictly', ',', '“', 'Save', 'your', 'frightened', 'cry', 'for', 'when', 'there', 'really', 'is', 'a', 'wolf', '!', 'Don', '’', 't', 'cry', '‘', 'wolf', '’', 'when', 'there', 'is', 'no', 'wolf', '!', '”', 'But', 'the', 'John', 'grinned', 'at', 'their', 'words', 'while', 'they', 'walked', ',', 'grumbling', 'down', 'the', 'hill', 'once', 'more', '.', 'Later', ',', 'the', 'John', 'saw', 'a', 'real', 'wolf', 'sneaking', 'around', 'his', 'flock', '.', 'Alarmed', ',', 'he', 'jumped', 'on', 'his', 'feet', 'and', 'cried', 'out', 'as', 'loud', 'as', 'he', 'could', ',', '“', 'Wolf', '!', 'Wolf', '!', '”', 'But', 'the', 'villagers', 'thought', 'he', 'was', 'fooling', 'them', 'again', ',', 'and', 'they', 'didn', '’', 't', 'come', 'to', 'help', '.', 'At', 'sunset', ',', 'the', 'villagers', 'went', 'looking', 'for', 'the', 'John', 'who', 'hadn', '’', 't', 'returned', 'with', 'their', 'sheep', '.', 'When', 'they', 'went', 'up', 'the', 'hill', ',', 'they', 'found', 'him', 'weeping', '.', '“', 'There', 'was', 'a', 'wolf', 'here', '!', 'The', 'flock', 'is', 'gone', '!', 'I', 'cried', 'out', ',', '‘', 'Wolf', '!', '’', 'but', 'you', 'didn', '’', 't', 'come', ',', '”', 'he', 'wailed', '.']\n"
          ]
        }
      ]
    },
    {
      "cell_type": "code",
      "source": [
        "# Filter out punctuation marks\n",
        "words = [word.lower() for word in words if word.isalpha()]\n",
        "\n",
        "# Frequency Distribution\n",
        "fdist = FreqDist(words)\n",
        "\n",
        "print(\"\\n2. Frequency Distribution:\")\n",
        "print(fdist.most_common(10))\n",
        "\n",
        "# Plot frequency distribution\n",
        "plt.figure(figsize=(10, 5))\n",
        "fdist.plot(20, title='Top 10 Words Frequency Distribution')\n",
        "plt.show()"
      ],
      "metadata": {
        "colab": {
          "base_uri": "https://localhost:8080/",
          "height": 584
        },
        "id": "ZCmJo8SrHr3G",
        "outputId": "b4244ca1-64d0-4967-8846-fa12410f8cad"
      },
      "execution_count": null,
      "outputs": [
        {
          "output_type": "stream",
          "name": "stdout",
          "text": [
            "\n",
            "2. Frequency Distribution:\n",
            "[('the', 25), ('wolf', 20), ('they', 10), ('when', 8), ('john', 7), ('he', 7), ('there', 6), ('is', 6), ('was', 5), ('to', 5)]\n"
          ]
        },
        {
          "output_type": "display_data",
          "data": {
            "text/plain": [
              "<Figure size 1000x500 with 1 Axes>"
            ],
            "image/png": "[encoded data removed]"
          },
          "metadata": {}
        }
      ]
    },
    {
      "cell_type": "code",
      "source": [
        "# Remove stopwords & punctuations\n",
        "stop_words = set(stopwords.words('english'))\n",
        "filtered_words = [word for word in words if word.lower() not in stop_words and word.isalnum()]\n",
        "\n",
        "print(\"\\n3. Remove stopwords & punctuations:\")\n",
        "print(filtered_words)"
      ],
      "metadata": {
        "colab": {
          "base_uri": "https://localhost:8080/"
        },
        "id": "XyQllc2zH3S2",
        "outputId": "d3d2dbe8-14a8-4399-9ce3-30ac4862d29d"
      },
      "execution_count": null,
      "outputs": [
        {
          "output_type": "stream",
          "name": "stdout",
          "text": [
            "\n",
            "3. Remove stopwords & punctuations:\n",
            "['john', 'became', 'bored', 'watched', 'village', 'sheep', 'grazing', 'hillside', 'entertain', 'sang', 'wolf', 'wolf', 'wolf', 'chasing', 'sheep', 'villagers', 'heard', 'cry', 'ran', 'hill', 'drive', 'wolf', 'away', 'arrived', 'saw', 'wolf', 'john', 'amused', 'saw', 'angry', 'faces', 'scream', 'wolf', 'wolf', 'john', 'villagers', 'warned', 'angrily', 'went', 'back', 'hill', 'later', 'shepherd', 'john', 'cried', 'wolf', 'wolf', 'wolf', 'chasing', 'sheep', 'amusement', 'villagers', 'came', 'running', 'hill', 'scare', 'wolf', 'away', 'saw', 'wolf', 'said', 'strictly', 'save', 'frightened', 'cry', 'really', 'wolf', 'cry', 'wolf', 'wolf', 'john', 'grinned', 'words', 'walked', 'grumbling', 'hill', 'later', 'john', 'saw', 'real', 'wolf', 'sneaking', 'around', 'flock', 'alarmed', 'jumped', 'feet', 'cried', 'loud', 'could', 'wolf', 'wolf', 'villagers', 'thought', 'fooling', 'come', 'help', 'sunset', 'villagers', 'went', 'looking', 'john', 'returned', 'sheep', 'went', 'hill', 'found', 'weeping', 'wolf', 'flock', 'gone', 'cried', 'wolf', 'come', 'wailed']\n"
          ]
        }
      ]
    },
    {
      "cell_type": "code",
      "source": [
        "# Lexicon Normalization (Stemming, Lemmatization)\n",
        "ps = PorterStemmer()\n",
        "stemmed_words = [ps.stem(word) for word in filtered_words]\n",
        "\n",
        "lemmatizer = WordNetLemmatizer()\n",
        "lemmatized_words = [lemmatizer.lemmatize(word) for word in filtered_words]\n",
        "\n",
        "\n",
        "print(\"\\n4. Lexicon Normalization (Stemming, Lemmatization):\")\n",
        "print(\"Stemmed Words:\", stemmed_words)\n",
        "print(\"Lemmatized Words:\", lemmatized_words)"
      ],
      "metadata": {
        "colab": {
          "base_uri": "https://localhost:8080/"
        },
        "id": "c55r09qyH4_1",
        "outputId": "d7e29785-dd39-4bf7-eb5d-4306be0add96"
      },
      "execution_count": null,
      "outputs": [
        {
          "output_type": "stream",
          "name": "stdout",
          "text": [
            "\n",
            "4. Lexicon Normalization (Stemming, Lemmatization):\n",
            "Stemmed Words: ['john', 'becam', 'bore', 'watch', 'villag', 'sheep', 'graze', 'hillsid', 'entertain', 'sang', 'wolf', 'wolf', 'wolf', 'chase', 'sheep', 'villag', 'heard', 'cri', 'ran', 'hill', 'drive', 'wolf', 'away', 'arriv', 'saw', 'wolf', 'john', 'amus', 'saw', 'angri', 'face', 'scream', 'wolf', 'wolf', 'john', 'villag', 'warn', 'angrili', 'went', 'back', 'hill', 'later', 'shepherd', 'john', 'cri', 'wolf', 'wolf', 'wolf', 'chase', 'sheep', 'amus', 'villag', 'came', 'run', 'hill', 'scare', 'wolf', 'away', 'saw', 'wolf', 'said', 'strictli', 'save', 'frighten', 'cri', 'realli', 'wolf', 'cri', 'wolf', 'wolf', 'john', 'grin', 'word', 'walk', 'grumbl', 'hill', 'later', 'john', 'saw', 'real', 'wolf', 'sneak', 'around', 'flock', 'alarm', 'jump', 'feet', 'cri', 'loud', 'could', 'wolf', 'wolf', 'villag', 'thought', 'fool', 'come', 'help', 'sunset', 'villag', 'went', 'look', 'john', 'return', 'sheep', 'went', 'hill', 'found', 'weep', 'wolf', 'flock', 'gone', 'cri', 'wolf', 'come', 'wail']\n",
            "Lemmatized Words: ['john', 'became', 'bored', 'watched', 'village', 'sheep', 'grazing', 'hillside', 'entertain', 'sang', 'wolf', 'wolf', 'wolf', 'chasing', 'sheep', 'villager', 'heard', 'cry', 'ran', 'hill', 'drive', 'wolf', 'away', 'arrived', 'saw', 'wolf', 'john', 'amused', 'saw', 'angry', 'face', 'scream', 'wolf', 'wolf', 'john', 'villager', 'warned', 'angrily', 'went', 'back', 'hill', 'later', 'shepherd', 'john', 'cried', 'wolf', 'wolf', 'wolf', 'chasing', 'sheep', 'amusement', 'villager', 'came', 'running', 'hill', 'scare', 'wolf', 'away', 'saw', 'wolf', 'said', 'strictly', 'save', 'frightened', 'cry', 'really', 'wolf', 'cry', 'wolf', 'wolf', 'john', 'grinned', 'word', 'walked', 'grumbling', 'hill', 'later', 'john', 'saw', 'real', 'wolf', 'sneaking', 'around', 'flock', 'alarmed', 'jumped', 'foot', 'cried', 'loud', 'could', 'wolf', 'wolf', 'villager', 'thought', 'fooling', 'come', 'help', 'sunset', 'villager', 'went', 'looking', 'john', 'returned', 'sheep', 'went', 'hill', 'found', 'weeping', 'wolf', 'flock', 'gone', 'cried', 'wolf', 'come', 'wailed']\n"
          ]
        }
      ]
    },
    {
      "cell_type": "code",
      "source": [
        "# Part of Speech tagging\n",
        "pos_tags = pos_tag(filtered_words)\n",
        "\n",
        "print(\"\\n5. Part of Speech tagging:\")\n",
        "print(pos_tags)"
      ],
      "metadata": {
        "colab": {
          "base_uri": "https://localhost:8080/"
        },
        "id": "-Ml3a_qLIC4B",
        "outputId": "b19c8ee9-e0ff-4752-bae2-12f6960028af"
      },
      "execution_count": null,
      "outputs": [
        {
          "output_type": "stream",
          "name": "stdout",
          "text": [
            "\n",
            "5. Part of Speech tagging:\n",
            "[('john', 'NN'), ('became', 'VBD'), ('bored', 'JJ'), ('watched', 'JJ'), ('village', 'NN'), ('sheep', 'NN'), ('grazing', 'VBG'), ('hillside', 'NN'), ('entertain', 'NN'), ('sang', 'VBD'), ('wolf', 'JJ'), ('wolf', 'NN'), ('wolf', 'NN'), ('chasing', 'VBG'), ('sheep', 'JJ'), ('villagers', 'NNS'), ('heard', 'VBP'), ('cry', 'NN'), ('ran', 'NN'), ('hill', 'NN'), ('drive', 'VBP'), ('wolf', 'NN'), ('away', 'RB'), ('arrived', 'VBD'), ('saw', 'JJ'), ('wolf', 'NN'), ('john', 'NN'), ('amused', 'VBD'), ('saw', 'JJ'), ('angry', 'JJ'), ('faces', 'VBZ'), ('scream', 'NN'), ('wolf', 'NN'), ('wolf', 'NN'), ('john', 'NN'), ('villagers', 'NNS'), ('warned', 'VBD'), ('angrily', 'RB'), ('went', 'VBD'), ('back', 'RB'), ('hill', 'NN'), ('later', 'RBR'), ('shepherd', 'NN'), ('john', 'NN'), ('cried', 'VBD'), ('wolf', 'JJ'), ('wolf', 'NN'), ('wolf', 'NN'), ('chasing', 'VBG'), ('sheep', 'JJ'), ('amusement', 'NN'), ('villagers', 'NNS'), ('came', 'VBD'), ('running', 'VBG'), ('hill', 'NN'), ('scare', 'NN'), ('wolf', 'VBZ'), ('away', 'RB'), ('saw', 'JJ'), ('wolf', 'NN'), ('said', 'VBD'), ('strictly', 'RB'), ('save', 'VBN'), ('frightened', 'VBN'), ('cry', 'RBR'), ('really', 'RB'), ('wolf', 'VB'), ('cry', 'NN'), ('wolf', 'NN'), ('wolf', 'NN'), ('john', 'NN'), ('grinned', 'VBD'), ('words', 'NNS'), ('walked', 'VBD'), ('grumbling', 'VBG'), ('hill', 'NN'), ('later', 'RB'), ('john', 'NN'), ('saw', 'VBD'), ('real', 'JJ'), ('wolf', 'NN'), ('sneaking', 'VBG'), ('around', 'IN'), ('flock', 'NN'), ('alarmed', 'VBD'), ('jumped', 'JJ'), ('feet', 'NNS'), ('cried', 'VBD'), ('loud', 'NN'), ('could', 'MD'), ('wolf', 'VB'), ('wolf', 'NN'), ('villagers', 'NNS'), ('thought', 'VBD'), ('fooling', 'VBG'), ('come', 'VB'), ('help', 'NN'), ('sunset', 'VB'), ('villagers', 'NNS'), ('went', 'VBD'), ('looking', 'VBG'), ('john', 'NN'), ('returned', 'VBD'), ('sheep', 'JJ'), ('went', 'VBD'), ('hill', 'NN'), ('found', 'VBD'), ('weeping', 'VBG'), ('wolf', 'NN'), ('flock', 'NN'), ('gone', 'VBN'), ('cried', 'JJ'), ('wolf', 'NN'), ('come', 'NN'), ('wailed', 'VBD')]\n"
          ]
        }
      ]
    },
    {
      "cell_type": "markdown",
      "source": [
        "Full forms:\n",
        "*   IN: preposition/subordinating conjunction\n",
        "*   NN: noun, singular (cat, tree)\n",
        "*   VBD: verb past tense (pleaded)\n",
        "*   JJ: This NLTK POS Tag is an adjective (large)\n",
        "*   JJS: adjective, superlative (largest)\n",
        "*   RB: adverb (occasionally, swiftly)"
      ],
      "metadata": {
        "id": "ql_iFaKBKFZ7"
      }
    },
    {
      "cell_type": "code",
      "source": [
        "token1 = nltk.word_tokenize(story2)\n",
        "pos_tag = nltk.pos_tag(token1)\n",
        "# Named Entity Recognition\n",
        "named_entities = ne_chunk(pos_tag)\n",
        "\n",
        "print(\"\\n6. Named Entity Recognition:\")\n",
        "print(named_entities)"
      ],
      "metadata": {
        "colab": {
          "base_uri": "https://localhost:8080/"
        },
        "id": "UC2Pc0eqIG_Z",
        "outputId": "41f983ba-f9d5-455c-8bab-736b4c83e2b9"
      },
      "execution_count": null,
      "outputs": [
        {
          "output_type": "stream",
          "name": "stdout",
          "text": [
            "\n",
            "6. Named Entity Recognition:\n",
            "(S\n",
            "  Once/RB\n",
            "  ,/,\n",
            "  there/EX\n",
            "  was/VBD\n",
            "  a/DT\n",
            "  John/NNP\n",
            "  who/WP\n",
            "  became/VBD\n",
            "  bored/VBD\n",
            "  when/WRB\n",
            "  he/PRP\n",
            "  watched/VBD\n",
            "  over/IN\n",
            "  the/DT\n",
            "  village/NN\n",
            "  sheep/JJ\n",
            "  grazing/NN\n",
            "  on/IN\n",
            "  the/DT\n",
            "  hillside/NN\n",
            "  ./.\n",
            "  To/TO\n",
            "  entertain/VB\n",
            "  himself/PRP\n",
            "  ,/,\n",
            "  he/PRP\n",
            "  sang/VBD\n",
            "  out/RP\n",
            "  ,/,\n",
            "  “/JJ\n",
            "  Wolf/NNP\n",
            "  !/.\n",
            "  (PERSON Wolf/NN)\n",
            "  !/.\n",
            "  The/DT\n",
            "  wolf/NN\n",
            "  is/VBZ\n",
            "  chasing/VBG\n",
            "  the/DT\n",
            "  sheep/NN\n",
            "  !/.\n",
            "  ”/NN\n",
            "  When/WRB\n",
            "  the/DT\n",
            "  villagers/NNS\n",
            "  heard/VBD\n",
            "  the/DT\n",
            "  cry/NN\n",
            "  ,/,\n",
            "  they/PRP\n",
            "  ran/VBD\n",
            "  up/RP\n",
            "  the/DT\n",
            "  hill/NN\n",
            "  to/TO\n",
            "  drive/VB\n",
            "  the/DT\n",
            "  wolf/NN\n",
            "  away/RB\n",
            "  ./.\n",
            "  But/CC\n",
            "  when/WRB\n",
            "  they/PRP\n",
            "  arrived/VBD\n",
            "  ,/,\n",
            "  they/PRP\n",
            "  saw/VBD\n",
            "  no/DT\n",
            "  wolf/NN\n",
            "  ./.\n",
            "  The/DT\n",
            "  (PERSON John/NNP)\n",
            "  was/VBD\n",
            "  amused/VBN\n",
            "  when/WRB\n",
            "  he/PRP\n",
            "  saw/VBD\n",
            "  their/PRP$\n",
            "  angry/JJ\n",
            "  faces/VBZ\n",
            "  ./.\n",
            "  “/JJ\n",
            "  (PERSON Don/NNP)\n",
            "  ’/NNP\n",
            "  t/NN\n",
            "  scream/NN\n",
            "  wolf/NN\n",
            "  when/WRB\n",
            "  there/EX\n",
            "  is/VBZ\n",
            "  no/DT\n",
            "  wolf/NN\n",
            "  ,/,\n",
            "  (PERSON John/NNP)\n",
            "  !/.\n",
            "  ”/VBZ\n",
            "  the/DT\n",
            "  villagers/NNS\n",
            "  warned/VBD\n",
            "  ./.\n",
            "  They/PRP\n",
            "  angrily/RB\n",
            "  went/VBD\n",
            "  back/RB\n",
            "  down/RP\n",
            "  the/DT\n",
            "  hill/NN\n",
            "  ./.\n",
            "  Later/RB\n",
            "  ,/,\n",
            "  the/DT\n",
            "  shepherd/NN\n",
            "  (PERSON John/NNP)\n",
            "  cried/VBD\n",
            "  out/RP\n",
            "  once/RB\n",
            "  again/RB\n",
            "  ,/,\n",
            "  “/JJ\n",
            "  Wolf/NNP\n",
            "  !/.\n",
            "  (PERSON Wolf/NN)\n",
            "  !/.\n",
            "  The/DT\n",
            "  wolf/NN\n",
            "  is/VBZ\n",
            "  chasing/VBG\n",
            "  the/DT\n",
            "  sheep/NN\n",
            "  !/.\n",
            "  ”/NN\n",
            "  To/TO\n",
            "  his/PRP$\n",
            "  amusement/NN\n",
            "  ,/,\n",
            "  the/DT\n",
            "  villagers/NNS\n",
            "  came/VBD\n",
            "  running/VBG\n",
            "  up/RP\n",
            "  the/DT\n",
            "  hill/NN\n",
            "  to/TO\n",
            "  scare/VB\n",
            "  the/DT\n",
            "  wolf/NN\n",
            "  away/RB\n",
            "  ./.\n",
            "  As/IN\n",
            "  they/PRP\n",
            "  saw/VBD\n",
            "  there/EX\n",
            "  was/VBD\n",
            "  no/DT\n",
            "  wolf/NN\n",
            "  ,/,\n",
            "  they/PRP\n",
            "  said/VBD\n",
            "  strictly/RB\n",
            "  ,/,\n",
            "  “/NNS\n",
            "  Save/VBP\n",
            "  your/PRP$\n",
            "  frightened/JJ\n",
            "  cry/NN\n",
            "  for/IN\n",
            "  when/WRB\n",
            "  there/EX\n",
            "  really/RB\n",
            "  is/VBZ\n",
            "  a/DT\n",
            "  wolf/NN\n",
            "  !/.\n",
            "  (PERSON Don/NNP)\n",
            "  ’/NNP\n",
            "  t/NN\n",
            "  cry/NN\n",
            "  ‘/NNP\n",
            "  wolf/NN\n",
            "  ’/NN\n",
            "  when/WRB\n",
            "  there/EX\n",
            "  is/VBZ\n",
            "  no/DT\n",
            "  wolf/NN\n",
            "  !/.\n",
            "  ”/NN\n",
            "  But/CC\n",
            "  the/DT\n",
            "  (PERSON John/NNP)\n",
            "  grinned/VBD\n",
            "  at/IN\n",
            "  their/PRP$\n",
            "  words/NNS\n",
            "  while/IN\n",
            "  they/PRP\n",
            "  walked/VBD\n",
            "  ,/,\n",
            "  grumbling/VBG\n",
            "  down/RP\n",
            "  the/DT\n",
            "  hill/NN\n",
            "  once/RB\n",
            "  more/RBR\n",
            "  ./.\n",
            "  Later/RB\n",
            "  ,/,\n",
            "  the/DT\n",
            "  (PERSON John/NNP)\n",
            "  saw/VBD\n",
            "  a/DT\n",
            "  real/JJ\n",
            "  wolf/NN\n",
            "  sneaking/VBG\n",
            "  around/IN\n",
            "  his/PRP$\n",
            "  flock/NN\n",
            "  ./.\n",
            "  (PERSON Alarmed/NNP)\n",
            "  ,/,\n",
            "  he/PRP\n",
            "  jumped/VBD\n",
            "  on/IN\n",
            "  his/PRP$\n",
            "  feet/NNS\n",
            "  and/CC\n",
            "  cried/VBD\n",
            "  out/RP\n",
            "  as/RB\n",
            "  loud/JJ\n",
            "  as/IN\n",
            "  he/PRP\n",
            "  could/MD\n",
            "  ,/,\n",
            "  “/VB\n",
            "  (PERSON Wolf/NNP)\n",
            "  !/.\n",
            "  (PERSON Wolf/NN)\n",
            "  !/.\n",
            "  ”/NN\n",
            "  But/CC\n",
            "  the/DT\n",
            "  villagers/NNS\n",
            "  thought/VBD\n",
            "  he/PRP\n",
            "  was/VBD\n",
            "  fooling/VBG\n",
            "  them/PRP\n",
            "  again/RB\n",
            "  ,/,\n",
            "  and/CC\n",
            "  they/PRP\n",
            "  didn/VBP\n",
            "  ’/JJ\n",
            "  t/NN\n",
            "  come/VBN\n",
            "  to/TO\n",
            "  help/VB\n",
            "  ./.\n",
            "  At/IN\n",
            "  sunset/NN\n",
            "  ,/,\n",
            "  the/DT\n",
            "  villagers/NNS\n",
            "  went/VBD\n",
            "  looking/VBG\n",
            "  for/IN\n",
            "  the/DT\n",
            "  (PERSON John/NNP)\n",
            "  who/WP\n",
            "  hadn/VBP\n",
            "  ’/NNP\n",
            "  t/NN\n",
            "  returned/VBD\n",
            "  with/IN\n",
            "  their/PRP$\n",
            "  sheep/NN\n",
            "  ./.\n",
            "  When/WRB\n",
            "  they/PRP\n",
            "  went/VBD\n",
            "  up/RP\n",
            "  the/DT\n",
            "  hill/NN\n",
            "  ,/,\n",
            "  they/PRP\n",
            "  found/VBD\n",
            "  him/PRP\n",
            "  weeping/VBG\n",
            "  ./.\n",
            "  “/CC\n",
            "  There/EX\n",
            "  was/VBD\n",
            "  a/DT\n",
            "  wolf/NN\n",
            "  here/RB\n",
            "  !/.\n",
            "  The/DT\n",
            "  flock/NN\n",
            "  is/VBZ\n",
            "  gone/VBN\n",
            "  !/.\n",
            "  I/PRP\n",
            "  cried/VBD\n",
            "  out/RP\n",
            "  ,/,\n",
            "  ‘/JJ\n",
            "  Wolf/NNP\n",
            "  !/.\n",
            "  ’/NN\n",
            "  but/CC\n",
            "  you/PRP\n",
            "  didn/VBP\n",
            "  ’/JJ\n",
            "  t/NN\n",
            "  come/NN\n",
            "  ,/,\n",
            "  ”/IN\n",
            "  he/PRP\n",
            "  wailed/VBD\n",
            "  ./.)\n"
          ]
        }
      ]
    },
    {
      "cell_type": "code",
      "source": [
        "import requests\n",
        "\n",
        "scrape = requests.get(\"https://www.nltk.org/api/nltk.chunk.ne_chunk.html\")\n",
        "\n",
        "print(scrape)\n",
        "print(scrape.text)"
      ],
      "metadata": {
        "colab": {
          "base_uri": "https://localhost:8080/"
        },
        "id": "Iy3iQz6qUI4_",
        "outputId": "186efa1f-a78a-4fd6-b0c9-4d0ab4d40605"
      },
      "execution_count": null,
      "outputs": [
        {
          "output_type": "stream",
          "name": "stdout",
          "text": [
            "<Response [200]>\n",
            "<!DOCTYPE html>\r\n",
            "<head>\r\n",
            "  <meta charset=\"utf-8\">\r\n",
            "  <meta name=\"generator\" content=\"Docutils 0.17: http://docutils.sourceforge.net/\" />\r\n",
            "\r\n",
            "  <meta name=\"viewport\" content=\"width=device-width, initial-scale=1.0\">\r\n",
            "  <meta name=\"theme-color\" content=\"#2D2D2D\" />\r\n",
            "  \r\n",
            "  <title>NLTK :: nltk.chunk.ne_chunk</title>\r\n",
            "  \r\n",
            "\r\n",
            "  <link rel=\"stylesheet\" href=\"../_static/css/nltk_theme.css\"/>\r\n",
            "  <link rel=\"stylesheet\" href=\"../_static/css/custom.css\"/>\r\n",
            "\r\n",
            "  <script type=\"text/javascript\" id=\"documentation_options\" data-url_root=\"../\" src=\"../_static/documentation_options.js\"></script>\r\n",
            "      <script type=\"text/javascript\" src=\"../_static/documentation_options.js\"></script>\r\n",
            "      <script type=\"text/javascript\" src=\"../_static/jquery.js\"></script>\r\n",
            "      <script type=\"text/javascript\" src=\"../_static/underscore.js\"></script>\r\n",
            "      <script type=\"text/javascript\" src=\"../_static/_sphinx_javascript_frameworks_compat.js\"></script>\r\n",
            "      <script type=\"text/javascript\" src=\"../_static/doctools.js\"></script>\r\n",
            "  \r\n",
            "\r\n",
            "  <script src=\"https://email.tl.fortawesome.com/c/eJxNjUEOgyAQAF8jR7Kw6wIHDh7sP1Cw2mgxgmn6-3JsMqc5zEQfE8dkxOY1KKMUOI3ACFKRJpSW2AAp7ontYIaxI6i7XPJVwyeVfCQ550Os3jLrGSNOLgbdAy6s0PBk2TFNjEbsfq31LB0OnX407pJa5v2faRadwSW63mn5KuLyR9j2tgx3zecanl-55R_-jjPs\"></script> \r\n",
            "</head>\r\n",
            "\r\n",
            "<body>\r\n",
            "  <div id=\"nltk-theme-container\">\r\n",
            "    <header>\r\n",
            "      <div id=\"logo-container\">\r\n",
            "          \r\n",
            "          <h1>\r\n",
            "            <a href=\"../index.html\">NLTK</a>\r\n",
            "          </h1>\r\n",
            "          \r\n",
            "      </div>\r\n",
            "      <div id=\"project-container\">\r\n",
            "        \r\n",
            "        <h1>Documentation</h1>\r\n",
            "        \r\n",
            "      </div>\r\n",
            "\r\n",
            "      <a id=\"menu-toggle\" class=\"fa fa-bars\" aria-hidden=\"true\"></a>\r\n",
            "\r\n",
            "      <script type=\"text/javascript\">\r\n",
            "        $(\"#menu-toggle\").click(function() {\r\n",
            "          $(\"#menu-toggle\").toggleClass(\"toggled\");\r\n",
            "          $(\"#side-menu-container\").slideToggle(300);\r\n",
            "        });\r\n",
            "      </script>\r\n",
            "    </header>\r\n",
            "\r\n",
            "    <div id=\"content-container\">\r\n",
            "\r\n",
            "      <div id=\"side-menu-container\">\r\n",
            "\r\n",
            "        <div id=\"search\" role=\"search\">\r\n",
            "        <form id=\"rtd-search-form\" class=\"wy-form\" action=\"../search.html\" method=\"get\">\r\n",
            "            <input type=\"text\" name=\"q\" placeholder=\"Search\" />\r\n",
            "            <input type=\"hidden\" name=\"check_keywords\" value=\"yes\" />\r\n",
            "            <input type=\"hidden\" name=\"area\" value=\"default\" />\r\n",
            "        </form>\r\n",
            "</div>\r\n",
            "\r\n",
            "        <div id=\"side-menu\" role=\"navigation\">\r\n",
            "          \r\n",
            "  \r\n",
            "    \r\n",
            "  \r\n",
            "  \r\n",
            "    <p class=\"caption\" role=\"heading\"><span class=\"caption-text\">NLTK Documentation</span></p>\r\n",
            "<ul>\r\n",
            "<li class=\"toctree-l1\"><a class=\"reference internal\" href=\"nltk.html\">API Reference</a></li>\r\n",
            "<li class=\"toctree-l1\"><a class=\"reference internal\" href=\"../howto.html\">Example Usage</a></li>\r\n",
            "<li class=\"toctree-l1\"><a class=\"reference internal\" href=\"../py-modindex.html\">Module Index</a></li>\r\n",
            "<li class=\"toctree-l1\"><a class=\"reference external\" href=\"https://github.com/nltk/nltk/wiki\">Wiki</a></li>\r\n",
            "<li class=\"toctree-l1\"><a class=\"reference external\" href=\"https://github.com/nltk/nltk/wiki/FAQ\">FAQ</a></li>\r\n",
            "<li class=\"toctree-l1\"><a class=\"reference external\" href=\"https://github.com/nltk/nltk/issues\">Open Issues</a></li>\r\n",
            "<li class=\"toctree-l1\"><a class=\"reference external\" href=\"https://github.com/nltk/nltk\">NLTK on GitHub</a></li>\r\n",
            "</ul>\r\n",
            "<p class=\"caption\" role=\"heading\"><span class=\"caption-text\">Installation</span></p>\r\n",
            "<ul>\r\n",
            "<li class=\"toctree-l1\"><a class=\"reference internal\" href=\"../install.html\">Installing NLTK</a></li>\r\n",
            "<li class=\"toctree-l1\"><a class=\"reference internal\" href=\"../data.html\">Installing NLTK Data</a></li>\r\n",
            "</ul>\r\n",
            "<p class=\"caption\" role=\"heading\"><span class=\"caption-text\">More</span></p>\r\n",
            "<ul>\r\n",
            "<li class=\"toctree-l1\"><a class=\"reference internal\" href=\"../news.html\">Release Notes</a></li>\r\n",
            "<li class=\"toctree-l1\"><a class=\"reference internal\" href=\"../contribute.html\">Contributing to NLTK</a></li>\r\n",
            "<li class=\"toctree-l1\"><a class=\"reference internal\" href=\"../team.html\">NLTK Team</a></li>\r\n",
            "</ul>\r\n",
            "\r\n",
            "  \r\n",
            "\r\n",
            "        </div>\r\n",
            "\r\n",
            "        \r\n",
            "      </div>\r\n",
            "\r\n",
            "      <div id=\"main-content-container\">\r\n",
            "        <div id=\"main-content\" role=\"main\">\r\n",
            "          \r\n",
            "  <section id=\"nltk-chunk-ne-chunk\">\r\n",
            "<h1>nltk.chunk.ne_chunk<a class=\"headerlink\" href=\"#nltk-chunk-ne-chunk\" title=\"Permalink to this heading\">¶</a></h1>\r\n",
            "<dl class=\"py function\">\r\n",
            "<dt class=\"sig sig-object py\" id=\"nltk.chunk.ne_chunk\">\r\n",
            "<span class=\"sig-prename descclassname\"><span class=\"pre\">nltk.chunk.</span></span><span class=\"sig-name descname\"><span class=\"pre\">ne_chunk</span></span><span class=\"sig-paren\">(</span><em class=\"sig-param\"><span class=\"n\"><span class=\"pre\">tagged_tokens</span></span></em>, <em class=\"sig-param\"><span class=\"n\"><span class=\"pre\">binary</span></span><span class=\"o\"><span class=\"pre\">=</span></span><span class=\"default_value\"><span class=\"pre\">False</span></span></em><span class=\"sig-paren\">)</span><a class=\"reference internal\" href=\"../_modules/nltk/chunk.html#ne_chunk\"><span class=\"viewcode-link\"><span class=\"pre\">[source]</span></span></a><a class=\"headerlink\" href=\"#nltk.chunk.ne_chunk\" title=\"Permalink to this definition\">¶</a></dt>\r\n",
            "<dd><p>Use NLTK’s currently recommended named entity chunker to\r\n",
            "chunk the given list of tagged tokens.</p>\r\n",
            "</dd></dl>\r\n",
            "\r\n",
            "</section>\r\n",
            "\r\n",
            "\r\n",
            "        </div>\r\n",
            "      </div>\r\n",
            "\r\n",
            "    </div>\r\n",
            "\r\n",
            "<footer>\r\n",
            "    <div id=\"footer-info\">\r\n",
            "        <ul id=\"build-details\">\r\n",
            "            \r\n",
            "                <li class=\"footer-element\">\r\n",
            "                    \r\n",
            "                        <a href=\"../_sources/api/nltk.chunk.ne_chunk.rst.txt\" rel=\"nofollow\"> source</a>\r\n",
            "                    \r\n",
            "                </li>\r\n",
            "            \r\n",
            "\r\n",
            "            \r\n",
            "                <li class=\"footer-element\">\r\n",
            "                    <a href=\"https://github.com/nltk/nltk/tree/3.8.1\">3.8.1</a>\r\n",
            "                </li>\r\n",
            "            \r\n",
            "\r\n",
            "            \r\n",
            "                <li class=\"footer-element\">\r\n",
            "                    Jan 02, 2023\r\n",
            "                </li>\r\n",
            "            \r\n",
            "        </ul>\r\n",
            "\r\n",
            "        \r\n",
            "            <div id=\"copyright\">\r\n",
            "                &copy; 2023, NLTK Project\r\n",
            "            </div>\r\n",
            "        \r\n",
            "\r\n",
            "        <div id=\"credit\">\r\n",
            "            created with <a href=\"http://sphinx-doc.org/\">Sphinx</a> and <a href=\"https://github.com/tomaarsen/nltk_theme\">NLTK Theme</a>\r\n",
            "        </div>\r\n",
            "    </div>\r\n",
            "</footer> \r\n",
            "\r\n",
            "</div>\r\n",
            "\r\n",
            "</body>\r\n",
            "</html>\n"
          ]
        }
      ]
    },
    {
      "cell_type": "markdown",
      "source": [
        "# **Text Analyzation in R**\n",
        "\n",
        "1.   **tm (Text Mining)**:The tm (Text Mining) package in R is a comprehensive toolkit for text mining and analysis. It provides functionalities for text preprocessing, transformation, and analysis, including term-document matrix creation, text cleaning, stemming, and stopword removal.\n",
        "\n",
        "2.   **quanteda**:quanteda is a powerful and user-friendly package for text analysis and natural language processing in R. It offers an intuitive and consistent interface for text corpus creation, tokenization, n-gram analysis, and text manipulation.\n",
        "\n",
        "3.   **text2vec**:text2vec is an efficient and scalable text mining package in R designed for processing large text corpora. It provides tools for word embeddings, text vectorization, document similarity analysis, and dimensionality reduction.\n",
        "\n",
        "4.   **udpipe**:udpipe is an R package for tokenization, part-of-speech tagging, and dependency parsing using pre-trained models provided by the UDPipe project. It offers multilingual support and provides access to state-of-the-art NLP models for various languages.\n",
        "\n",
        "5.   **koRpus**:koRpus is an R package designed for text analysis and computational linguistics tasks. It provides functions for text readability analysis, lexical diversity measurement, and linguistic annotation. koRpus offers a wide range of linguistic indices and measures, including lexical richness, syntactic complexity, and text cohesion metrics."
      ],
      "metadata": {
        "id": "Cvb8DMf6VzOc"
      }
    },
    {
      "cell_type": "code",
      "source": [
        "install.packages(\"tm\")\n",
        "install.packages(\"rvest\")\n",
        "install.packages(\"tokenizers\")\n",
        "install.packages(\"openNLP\")"
      ],
      "metadata": {
        "id": "VKFUGQCPQMNd",
        "colab": {
          "base_uri": "https://localhost:8080/"
        },
        "outputId": "d96a5483-a432-46f3-c42c-858afa4fdcfe"
      },
      "execution_count": 1,
      "outputs": [
        {
          "output_type": "stream",
          "name": "stderr",
          "text": [
            "Installing package into ‘/usr/local/lib/R/site-library’\n",
            "(as ‘lib’ is unspecified)\n",
            "\n",
            "also installing the dependencies ‘NLP’, ‘Rcpp’, ‘slam’, ‘BH’\n",
            "\n",
            "\n",
            "Installing package into ‘/usr/local/lib/R/site-library’\n",
            "(as ‘lib’ is unspecified)\n",
            "\n",
            "Installing package into ‘/usr/local/lib/R/site-library’\n",
            "(as ‘lib’ is unspecified)\n",
            "\n",
            "also installing the dependency ‘SnowballC’\n",
            "\n",
            "\n",
            "Installing package into ‘/usr/local/lib/R/site-library’\n",
            "(as ‘lib’ is unspecified)\n",
            "\n",
            "also installing the dependencies ‘openNLPdata’, ‘rJava’\n",
            "\n",
            "\n",
            "Warning message in install.packages(\"openNLP\"):\n",
            "“installation of package ‘rJava’ had non-zero exit status”\n",
            "Warning message in install.packages(\"openNLP\"):\n",
            "“installation of package ‘openNLPdata’ had non-zero exit status”\n",
            "Warning message in install.packages(\"openNLP\"):\n",
            "“installation of package ‘openNLP’ had non-zero exit status”\n"
          ]
        }
      ]
    },
    {
      "cell_type": "code",
      "source": [
        "library(tm)\n",
        "library(rvest)\n",
        "library(NLP)\n",
        "library(tokenizers)\n",
        "library(SnowballC)"
      ],
      "metadata": {
        "colab": {
          "base_uri": "https://localhost:8080/"
        },
        "id": "kLePWqI4FTg1",
        "outputId": "18603e88-eae4-45f2-fad1-f6c58a32fd2b"
      },
      "execution_count": 2,
      "outputs": [
        {
          "output_type": "stream",
          "name": "stderr",
          "text": [
            "Loading required package: NLP\n",
            "\n"
          ]
        }
      ]
    },
    {
      "cell_type": "code",
      "source": [
        "# install.packages(c(\"tm\", \"NLP\", \"quanteda\", \"udpipe\", \"rvest\", \"tidyverse\"))\n",
        "install.packages('tm')"
      ],
      "metadata": {
        "id": "3HzXQwMUFVOM"
      },
      "execution_count": null,
      "outputs": []
    },
    {
      "cell_type": "code",
      "source": [
        "install.packages('NLP')"
      ],
      "metadata": {
        "colab": {
          "base_uri": "https://localhost:8080/"
        },
        "id": "JCMBz_1yFWnl",
        "outputId": "490b0b46-ccef-48e5-96ac-5c2e524d4d8d"
      },
      "execution_count": 3,
      "outputs": [
        {
          "output_type": "stream",
          "name": "stderr",
          "text": [
            "Installing package into ‘/usr/local/lib/R/site-library’\n",
            "(as ‘lib’ is unspecified)\n",
            "\n"
          ]
        }
      ]
    },
    {
      "cell_type": "code",
      "source": [
        "install.packages('quanteda')"
      ],
      "metadata": {
        "colab": {
          "base_uri": "https://localhost:8080/"
        },
        "id": "FjWMhzz1FYAV",
        "outputId": "b7adfe8a-c614-47a6-db58-a058b197771e"
      },
      "execution_count": 7,
      "outputs": [
        {
          "output_type": "stream",
          "name": "stderr",
          "text": [
            "Installing package into ‘/usr/local/lib/R/site-library’\n",
            "(as ‘lib’ is unspecified)\n",
            "\n",
            "Warning message in install.packages(\"quanteda\"):\n",
            "“installation of package ‘quanteda’ had non-zero exit status”\n"
          ]
        }
      ]
    },
    {
      "cell_type": "code",
      "source": [
        "# install.packages('udpipe')\n",
        "# install.packages('rvest')\n",
        "install.packages('tidyverse')"
      ],
      "metadata": {
        "colab": {
          "base_uri": "https://localhost:8080/"
        },
        "id": "qMCeYd2aFZKM",
        "outputId": "042c9d7b-1ebd-4696-d9e3-41acc2c10879"
      },
      "execution_count": 5,
      "outputs": [
        {
          "output_type": "stream",
          "name": "stderr",
          "text": [
            "Installing package into ‘/usr/local/lib/R/site-library’\n",
            "(as ‘lib’ is unspecified)\n",
            "\n"
          ]
        }
      ]
    },
    {
      "cell_type": "code",
      "source": [
        " # Sample Text\n",
        "library(tm)\n",
        "library(NLP)\n",
        "\n",
        "\n",
        "text <- \"Once upon a time, there lived a turtle and a rabbit in a beautiful forest. The rabbit was very fast, while the turtle was slow but steady. One day, they decided to have a race.\n",
        "The rabbit, being overconfident, took a nap during the race while the turtle kept moving forward. When the rabbit woke up, he saw the turtle near the finish line. However, it was too late. The turtle had won the race!\n",
        "\"\n",
        "\n",
        "# Tokenize the text into words\n",
        "word_tokens <- unlist(tokenize_words(text))\n",
        "\n",
        "# Print the result\n",
        "print(word_tokens)\n",
        "\n"
      ],
      "metadata": {
        "colab": {
          "base_uri": "https://localhost:8080/"
        },
        "id": "zj_Ak679FdTl",
        "outputId": "ab05d5a7-5f2a-4b16-8df9-677962dbcb07"
      },
      "execution_count": 11,
      "outputs": [
        {
          "output_type": "stream",
          "name": "stdout",
          "text": [
            " [1] \"once\"          \"upon\"          \"a\"             \"time\"         \n",
            " [5] \"there\"         \"lived\"         \"a\"             \"turtle\"       \n",
            " [9] \"and\"           \"a\"             \"rabbit\"        \"in\"           \n",
            "[13] \"a\"             \"beautiful\"     \"forest\"        \"the\"          \n",
            "[17] \"rabbit\"        \"was\"           \"very\"          \"fast\"         \n",
            "[21] \"while\"         \"the\"           \"turtle\"        \"was\"          \n",
            "[25] \"slow\"          \"but\"           \"steady\"        \"one\"          \n",
            "[29] \"day\"           \"they\"          \"decided\"       \"to\"           \n",
            "[33] \"have\"          \"a\"             \"race\"          \"the\"          \n",
            "[37] \"rabbit\"        \"being\"         \"overconfident\" \"took\"         \n",
            "[41] \"a\"             \"nap\"           \"during\"        \"the\"          \n",
            "[45] \"race\"          \"while\"         \"the\"           \"turtle\"       \n",
            "[49] \"kept\"          \"moving\"        \"forward\"       \"when\"         \n",
            "[53] \"the\"           \"rabbit\"        \"woke\"          \"up\"           \n",
            "[57] \"he\"            \"saw\"           \"the\"           \"turtle\"       \n",
            "[61] \"near\"          \"the\"           \"finish\"        \"line\"         \n",
            "[65] \"however\"       \"it\"            \"was\"           \"too\"          \n",
            "[69] \"late\"          \"the\"           \"turtle\"        \"had\"          \n",
            "[73] \"won\"           \"the\"           \"race\"         \n"
          ]
        }
      ]
    },
    {
      "cell_type": "code",
      "source": [
        "# Remove stopwords and punctuations\n",
        "stop_words <- stopwords(\"en\")\n",
        "filtered_tokens <- word_tokens[!(word_tokens %in% stop_words) & grepl(\"[a-zA-Z]\", word_tokens)]\n",
        "cat(\"Filtered Tokens (without stopwords and punctuations):\", filtered_tokens, \"\\n\")"
      ],
      "metadata": {
        "colab": {
          "base_uri": "https://localhost:8080/"
        },
        "id": "kPKTa3pxFepd",
        "outputId": "d9df6dfb-8623-400e-8a0d-45fc936f8394"
      },
      "execution_count": 12,
      "outputs": [
        {
          "output_type": "stream",
          "name": "stdout",
          "text": [
            "Filtered Tokens (without stopwords and punctuations): upon time lived turtle rabbit beautiful forest rabbit fast turtle slow steady one day decided race rabbit overconfident took nap race turtle kept moving forward rabbit woke saw turtle near finish line however late turtle won race \n"
          ]
        }
      ]
    },
    {
      "cell_type": "code",
      "source": [
        "text <- \"Once upon a time, there lived a turtle and a rabbit in a beautiful forest. The rabbit was very fast, while the turtle was slow but steady. One day, they decided to have a race.\n",
        "The rabbit, being overconfident, took a nap during the race while the turtle kept moving forward. When the rabbit woke up, he saw the turtle near the finish line. However, it was too late. The turtle had won the race!\n",
        "\"\n",
        "sent_tokens <- unlist(tokenize_sentences(text))\n",
        "word_tokens <- unlist(tokenize_words(text))\n",
        "cat(\"Sentence Tokens:\", sent_tokens, \"\\n\")\n",
        "cat(\"Word Tokens:\", word_tokens, \"\\n\")\n",
        "# Frequency Distribution\n",
        "fdist <- table(unlist(word_tokens))\n",
        "print(head(sort(fdist, decreasing = TRUE), 2))"
      ],
      "metadata": {
        "colab": {
          "base_uri": "https://localhost:8080/"
        },
        "id": "hP0LgtQaFfvl",
        "outputId": "f51e3d1f-c180-4af0-fa6d-b8a16b30aa36"
      },
      "execution_count": 13,
      "outputs": [
        {
          "output_type": "stream",
          "name": "stdout",
          "text": [
            "Sentence Tokens: Once upon a time, there lived a turtle and a rabbit in a beautiful forest. The rabbit was very fast, while the turtle was slow but steady. One day, they decided to have a race. The rabbit, being overconfident, took a nap during the race while the turtle kept moving forward. When the rabbit woke up, he saw the turtle near the finish line. However, it was too late. The turtle had won the race! \n",
            "Word Tokens: once upon a time there lived a turtle and a rabbit in a beautiful forest the rabbit was very fast while the turtle was slow but steady one day they decided to have a race the rabbit being overconfident took a nap during the race while the turtle kept moving forward when the rabbit woke up he saw the turtle near the finish line however it was too late the turtle had won the race \n",
            "\n",
            "the   a \n",
            " 10   6 \n"
          ]
        }
      ]
    },
    {
      "cell_type": "code",
      "source": [
        "stemmed_tokens <- wordStem(filtered_tokens, language = \"en\")\n",
        "\n",
        "# Lemmatization\n",
        "lemmatized_text <- tolower(text)\n",
        "lemmatized_text <- wordStem(lemmatized_text, language = \"en\")\n",
        "cat(\"Stemmed Tokens:\", stemmed_tokens, \"\\n\")\n",
        "cat(\"Lemmatized Text:\", lemmatized_text, \"\\n\")"
      ],
      "metadata": {
        "colab": {
          "base_uri": "https://localhost:8080/"
        },
        "id": "blvnZyXsFhRd",
        "outputId": "21985664-2753-42bd-8dfc-f77c93e8f265"
      },
      "execution_count": 14,
      "outputs": [
        {
          "output_type": "stream",
          "name": "stdout",
          "text": [
            "Stemmed Tokens: upon time live turtl rabbit beauti forest rabbit fast turtl slow steadi one day decid race rabbit overconfid took nap race turtl kept move forward rabbit woke saw turtl near finish line howev late turtl won race \n",
            "Lemmatized Text: once upon a time, there lived a turtle and a rabbit in a beautiful forest. the rabbit was very fast, while the turtle was slow but steady. one day, they decided to have a race.\n",
            "the rabbit, being overconfident, took a nap during the race while the turtle kept moving forward. when the rabbit woke up, he saw the turtle near the finish line. however, it was too late. the turtle had won the race!\n",
            " \n"
          ]
        }
      ]
    },
    {
      "cell_type": "code",
      "source": [
        "url <- 'https://www.nltk.org/api/nltk.chunk.ne_chunk.html'\n",
        "web_page <- read_html(url)\n",
        "web_text <- html_text(web_page)\n",
        "cat(\"Scraped Data from the Website:\\n\", web_text)"
      ],
      "metadata": {
        "colab": {
          "base_uri": "https://localhost:8080/"
        },
        "id": "Rv_DsDL1Fi0t",
        "outputId": "4eac669b-d474-4b61-fb77-769a4f09be51"
      },
      "execution_count": 15,
      "outputs": [
        {
          "output_type": "stream",
          "name": "stdout",
          "text": [
            "Scraped Data from the Website:\n",
            " NLTK :: nltk.chunk.ne_chunk\r\n",
            "  \r\n",
            "    \r\n",
            "          \r\n",
            "          \r\n",
            "            NLTK\r\n",
            "          \r\n",
            "          \r\n",
            "      \r\n",
            "      \r\n",
            "        \r\n",
            "        Documentation\r\n",
            "        \r\n",
            "      \r\n",
            "\r\n",
            "      \r\n",
            "\r\n",
            "      \r\n",
            "        $(\"#menu-toggle\").click(function() {\r\n",
            "          $(\"#menu-toggle\").toggleClass(\"toggled\");\r\n",
            "          $(\"#side-menu-container\").slideToggle(300);\r\n",
            "        });\r\n",
            "      \r\n",
            "\r\n",
            "      \r\n",
            "\r\n",
            "        \r\n",
            "        \r\n",
            "            \r\n",
            "\r\n",
            "\r\n",
            "        \r\n",
            "          \r\n",
            "  \r\n",
            "    \r\n",
            "  \r\n",
            "  \r\n",
            "    NLTK Documentation\r\n",
            "API Reference\r\n",
            "Example Usage\r\n",
            "Module Index\r\n",
            "Wiki\r\n",
            "FAQ\r\n",
            "Open Issues\r\n",
            "NLTK on GitHub\r\n",
            "Installation\r\n",
            "Installing NLTK\r\n",
            "Installing NLTK Data\r\n",
            "More\r\n",
            "Release Notes\r\n",
            "Contributing to NLTK\r\n",
            "NLTK Team\r\n",
            "\r\n",
            "\r\n",
            "        \r\n",
            "      \r\n",
            "\r\n",
            "      \r\n",
            "        \r\n",
            "          \r\n",
            "  nltk.chunk.ne_chunk¶\r\n",
            "\r\n",
            "nltk.chunk.ne_chunk(tagged_tokens, binary=False)[source]¶\r\n",
            "Use NLTK’s currently recommended named entity chunker to\r\n",
            "chunk the given list of tagged tokens.\r\n",
            "\r\n",
            "      \r\n",
            "\r\n",
            "    \r\n",
            "\r\n",
            "\r\n",
            "        \r\n",
            "                    \r\n",
            "                         source\r\n",
            "                    \r\n",
            "                \r\n",
            "            \r\n",
            "\r\n",
            "            \r\n",
            "                \r\n",
            "                    3.8.1\r\n",
            "                \r\n",
            "            \r\n",
            "\r\n",
            "            \r\n",
            "                \r\n",
            "                    Jan 02, 2023\r\n",
            "                \r\n",
            "            \r\n",
            "        \r\n",
            "                © 2023, NLTK Project\r\n",
            "            \r\n",
            "        \r\n",
            "\r\n",
            "        \r\n",
            "            created with Sphinx and NLTK Theme\r\n",
            "        \r\n",
            "    \r\n",
            "\r\n",
            "\r\n"
          ]
        }
      ]
    },
    {
      "cell_type": "markdown",
      "source": [
        "**Conclusion: -**\n",
        "*   Identified the Text Analytics Libraries in Python and R\n",
        "*   Performed simple experiments with these libraries in Python and R"
      ],
      "metadata": {
        "id": "ZjAWBvJKHWRt"
      }
    }
  ]
}