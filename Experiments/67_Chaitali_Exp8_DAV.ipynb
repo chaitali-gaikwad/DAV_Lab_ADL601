{
  "nbformat": 4,
  "nbformat_minor": 0,
  "metadata": {
    "colab": {
      "provenance": []
    },
    "kernelspec": {
      "name": "python3",
      "display_name": "Python 3"
    },
    "language_info": {
      "name": "python"
    }
  },
  "cells": [
    {
      "cell_type": "markdown",
      "source": [
        "## **D3.js**\n"
      ],
      "metadata": {
        "id": "G3Vr8V3Giq5e"
      }
    },
    {
      "cell_type": "markdown",
      "source": [
        "D3 stands for Data-Driven Documents.\n",
        "\n",
        "D3.js is a JavaScript library for manipulating documents based on data.\n",
        "\n",
        "D3.js is a dynamic, interactive, online data visualizations framework used in a large number of websites.\n",
        "\n",
        "D3.js is a JavaScript library used to create interactive visualizations in the browser.\n",
        "\n",
        "The D3.js library allows us to manipulate elements of a webpage in the context of a data set.\n",
        "\n",
        "These elements can be HTML, SVG, or Canvas elements and can be introduced, removed, or edited according to the contents of the data set.\n",
        "\n",
        "It is a library for manipulating the DOM objects. D3.js can be a valuable aid in data exploration, it gives you control over your data's representation and lets you add interactivity.\n",
        "\n",
        "**Features:**\n",
        "*   Extremely flexible.\n",
        "*   Easy to use and fast.\n",
        "*   Supports large datasets.\n",
        "*   Declarative programming.\n",
        "*   Code reusability.\n",
        "*   Has wide variety of curve generating functions.\n",
        "*   Associates data to an element or group of elements in the html page."
      ],
      "metadata": {
        "id": "rfjS6NjGeE1y"
      }
    },
    {
      "cell_type": "markdown",
      "source": [
        "## **select()**:\n",
        "\n",
        "The select method selects the HTML element based on CSS Selectors."
      ],
      "metadata": {
        "id": "ONMnjVcOfpnM"
      }
    },
    {
      "cell_type": "markdown",
      "source": [
        "**1. Selection by Tag:**\n",
        "You can select HTML elements using its TAG."
      ],
      "metadata": {
        "id": "lAy4hXBpQK68"
      }
    },
    {
      "cell_type": "code",
      "execution_count": null,
      "metadata": {
        "colab": {
          "base_uri": "https://localhost:8080/",
          "height": 34
        },
        "id": "GzkUhV0rPRyR",
        "outputId": "5211d296-7201-4061-b2e4-80b3505a61f1"
      },
      "outputs": [
        {
          "output_type": "display_data",
          "data": {
            "text/plain": [
              "<IPython.core.display.HTML object>"
            ],
            "text/html": [
              "<!DOCTYPE html>\n",
              "<html>\n",
              "   <head>\n",
              "      <script type = \"text/javascript\" src = \"https://d3js.org/d3.v4.min.js\"></script>\n",
              "   </head>\n",
              "\n",
              "   <body>\n",
              "      <div>\n",
              "         Using Tag Selection    \n",
              "      </div>\n",
              "      \n",
              "      <script>\n",
              "         d3.select(\"div\").text();\n",
              "      </script>\n",
              "   </body>\n",
              "</html>\n"
            ]
          },
          "metadata": {}
        }
      ],
      "source": [
        "%%html\n",
        "<!DOCTYPE html>\n",
        "<html>\n",
        "   <head>\n",
        "      <script type = \"text/javascript\" src = \"https://d3js.org/d3.v4.min.js\"></script>\n",
        "   </head>\n",
        "\n",
        "   <body>\n",
        "      <div>\n",
        "         Using Tag Selection\n",
        "      </div>\n",
        "\n",
        "      <script>\n",
        "         d3.select(\"div\").text();\n",
        "      </script>\n",
        "   </body>\n",
        "</html>"
      ]
    },
    {
      "cell_type": "markdown",
      "source": [
        "**2. Selection by Class name:**\n",
        "HTML elements styled using CSS classes can be selected using class names"
      ],
      "metadata": {
        "id": "CuQCFcrYQRgE"
      }
    },
    {
      "cell_type": "code",
      "source": [
        "%%html\n",
        "<!DOCTYPE html>\n",
        "<html>\n",
        "   <head>\n",
        "      <script type = \"text/javascript\" src = \"https://d3js.org/d3.v4.min.js\"></script>\n",
        "   </head>\n",
        "\n",
        "   <body>\n",
        "      <div class = \"myclass\">\n",
        "         Using class name selection\n",
        "      </div>\n",
        "\n",
        "      <script>\n",
        "         ad3.select(\".myclass\").text();\n",
        "      </script>\n",
        "   </body>\n",
        "</html>"
      ],
      "metadata": {
        "colab": {
          "base_uri": "https://localhost:8080/",
          "height": 34
        },
        "id": "HOOKRMT2PcZW",
        "outputId": "3c0b5492-0a91-4689-8cac-15ac59ee65a2"
      },
      "execution_count": null,
      "outputs": [
        {
          "output_type": "display_data",
          "data": {
            "text/plain": [
              "<IPython.core.display.HTML object>"
            ],
            "text/html": [
              "<!DOCTYPE html>\n",
              "<html>\n",
              "   <head>\n",
              "      <script type = \"text/javascript\" src = \"https://d3js.org/d3.v4.min.js\"></script>\n",
              "   </head>\n",
              "\n",
              "   <body>\n",
              "      <div class = \"myclass\">\n",
              "         Using class name selection\n",
              "      </div>\n",
              "      \n",
              "      <script>\n",
              "         ad3.select(\".myclass\").text();\n",
              "      </script>\n",
              "   </body>\n",
              "</html>\n"
            ]
          },
          "metadata": {}
        }
      ]
    },
    {
      "cell_type": "markdown",
      "source": [
        "**3. Selection by ID:**\n",
        "Every element in a HTML page should have a unique ID."
      ],
      "metadata": {
        "id": "XZZQEW6CQUN7"
      }
    },
    {
      "cell_type": "code",
      "source": [
        "%%html\n",
        "<!DOCTYPE html>\n",
        "<html>\n",
        "   <head>\n",
        "      <script type = \"text/javascript\" src = \"https://d3js.org/d3.v4.min.js\"></script>\n",
        "   </head>\n",
        "\n",
        "   <body>\n",
        "      <div id = \"hello\">\n",
        "         using id selection\n",
        "      </div>\n",
        "\n",
        "      <script>\n",
        "         d3.select(\"#hello\").text();\n",
        "      </script>\n",
        "   </body>\n",
        "</html>"
      ],
      "metadata": {
        "colab": {
          "base_uri": "https://localhost:8080/",
          "height": 34
        },
        "id": "2EEW_hazPsT9",
        "outputId": "0a376786-ac23-4f77-ea19-4f7435ffc24a"
      },
      "execution_count": null,
      "outputs": [
        {
          "output_type": "display_data",
          "data": {
            "text/plain": [
              "<IPython.core.display.HTML object>"
            ],
            "text/html": [
              "<!DOCTYPE html>\n",
              "<html>\n",
              "   <head>\n",
              "      <script type = \"text/javascript\" src = \"https://d3js.org/d3.v4.min.js\"></script>\n",
              "   </head>\n",
              "\n",
              "   <body>\n",
              "      <div id = \"hello\">\n",
              "         using id selection\n",
              "      </div>\n",
              "      \n",
              "      <script>\n",
              "         d3.select(\"#hello\").text();\n",
              "      </script>\n",
              "   </body>\n",
              "</html>\n"
            ]
          },
          "metadata": {}
        }
      ]
    },
    {
      "cell_type": "markdown",
      "source": [
        "## **Adding DOM Elements**\n",
        "The D3.js selection provides the append() and the text() methods to append new elements into the existing HTML documents."
      ],
      "metadata": {
        "id": "kVbebbvWf_7A"
      }
    },
    {
      "cell_type": "markdown",
      "source": [
        "**append():**\n",
        "The append() method appends a new element as the last child of the element in the current selection.\n",
        "\n",
        "**text():**\n",
        "The text() method is used to set the content of the selected / appended elements."
      ],
      "metadata": {
        "id": "6vp41le4QXET"
      }
    },
    {
      "cell_type": "code",
      "source": [
        "%%html\n",
        "<!DOCTYPE html>\n",
        "<html>\n",
        "   <head>\n",
        "      <script type = \"text/javascript\" src = \"https://d3js.org/d3.v4.min.js\"></script>\n",
        "   </head>\n",
        "\n",
        "   <body>\n",
        "      <div class = \"myclass\">\n",
        "         Chaitali\n",
        "      </div>\n",
        "\n",
        "      <script>\n",
        "         d3.select(\"div.myclass\").append(\"p\").text(\"Gaikwad\");\n",
        "      </script>\n",
        "   </body>\n",
        "</html>"
      ],
      "metadata": {
        "colab": {
          "base_uri": "https://localhost:8080/",
          "height": 64
        },
        "id": "yA-MqEU9PzDd",
        "outputId": "b9b07a88-b162-4b73-99c0-f50f039596d3"
      },
      "execution_count": null,
      "outputs": [
        {
          "output_type": "display_data",
          "data": {
            "text/plain": [
              "<IPython.core.display.HTML object>"
            ],
            "text/html": [
              "<!DOCTYPE html>\n",
              "<html>\n",
              "   <head>\n",
              "      <script type = \"text/javascript\" src = \"https://d3js.org/d3.v4.min.js\"></script>\n",
              "   </head>\n",
              "\n",
              "   <body>\n",
              "      <div class = \"myclass\">\n",
              "         Chaitali\n",
              "      </div>\n",
              "      \n",
              "      <script>\n",
              "         d3.select(\"div.myclass\").append(\"p\").text(\"Gaikwad\");\n",
              "      </script>\n",
              "   </body>\n",
              "</html>\n"
            ]
          },
          "metadata": {}
        }
      ]
    },
    {
      "cell_type": "markdown",
      "source": [
        "## **Modifying Elements**\n",
        "D3.js provides various methods, html(), attr() and style() to modify the content and style of the selected elements."
      ],
      "metadata": {
        "id": "dTJkAfMlgJIO"
      }
    },
    {
      "cell_type": "markdown",
      "source": [
        "**html():**\n",
        "The html() method is used to set the html content of the selected / appended elements."
      ],
      "metadata": {
        "id": "3mDKfiqhQasr"
      }
    },
    {
      "cell_type": "code",
      "source": [
        "%%html\n",
        "<!DOCTYPE html>\n",
        "<html>\n",
        "   <head>\n",
        "      <script type = \"text/javascript\" src = \"https://d3js.org/d3.v4.min.js\"></script>\n",
        "   </head>\n",
        "\n",
        "   <body>\n",
        "      <div class = \"myclass\">\n",
        "         Hello World!\n",
        "      </div>\n",
        "\n",
        "      <script>\n",
        "         d3.select(\".myclass\").html(\"Hello Everyone! <span>from Chaitali</span>\");\n",
        "      </script>\n",
        "   </body>\n",
        "</html>"
      ],
      "metadata": {
        "colab": {
          "base_uri": "https://localhost:8080/",
          "height": 34
        },
        "id": "RfibbmevP_eT",
        "outputId": "44453faf-8a2c-494a-ec80-8dfbc58fc569"
      },
      "execution_count": null,
      "outputs": [
        {
          "output_type": "display_data",
          "data": {
            "text/plain": [
              "<IPython.core.display.HTML object>"
            ],
            "text/html": [
              "<!DOCTYPE html>\n",
              "<html>\n",
              "   <head>\n",
              "      <script type = \"text/javascript\" src = \"https://d3js.org/d3.v4.min.js\"></script>\n",
              "   </head>\n",
              "\n",
              "   <body>\n",
              "      <div class = \"myclass\">\n",
              "         Hello World!\n",
              "      </div>\n",
              "      \n",
              "      <script>\n",
              "         d3.select(\".myclass\").html(\"Hello Everyone! <span>from Chaitali</span>\");\n",
              "      </script>\n",
              "   </body>\n",
              "</html>\n"
            ]
          },
          "metadata": {}
        }
      ]
    },
    {
      "cell_type": "markdown",
      "source": [
        "**attr():**\n",
        "The attr() method is used to add or update the attribute of the selected elements."
      ],
      "metadata": {
        "id": "SoRuTTcpSUbU"
      }
    },
    {
      "cell_type": "code",
      "source": [
        "%%html\n",
        "<!DOCTYPE html>\n",
        "<html>\n",
        "   <head>\n",
        "      <script type = \"text/javascript\" src = \"https://d3js.org/d3.v4.min.js\"></script>\n",
        "   </head>\n",
        "\n",
        "   <body>\n",
        "      <div class = \"myclass\">\n",
        "         Chaitali Gaikwad in color CYAN using attr() method\n",
        "      </div>\n",
        "\n",
        "      <script>\n",
        "         d3.select(\".myclass\").attr(\"style\", \"color: cyan\");\n",
        "      </script>\n",
        "   </body>\n",
        "</html>"
      ],
      "metadata": {
        "colab": {
          "base_uri": "https://localhost:8080/",
          "height": 34
        },
        "id": "BUmWGPiUQdXU",
        "outputId": "e05bc7ae-0e2c-4a09-fe75-d3501c4c5568"
      },
      "execution_count": null,
      "outputs": [
        {
          "output_type": "display_data",
          "data": {
            "text/plain": [
              "<IPython.core.display.HTML object>"
            ],
            "text/html": [
              "<!DOCTYPE html>\n",
              "<html>\n",
              "   <head>\n",
              "      <script type = \"text/javascript\" src = \"https://d3js.org/d3.v4.min.js\"></script>\n",
              "   </head>\n",
              "\n",
              "   <body>\n",
              "      <div class = \"myclass\">\n",
              "         Chaitali Gaikwad in color CYAN using attr() method\n",
              "      </div>\n",
              "      \n",
              "      <script>\n",
              "         d3.select(\".myclass\").attr(\"style\", \"color: cyan\");\n",
              "      </script>\n",
              "   </body>\n",
              "</html>\n"
            ]
          },
          "metadata": {}
        }
      ]
    },
    {
      "cell_type": "markdown",
      "source": [
        "**style():**\n",
        "The style() method is used to set the style property of the selected elements."
      ],
      "metadata": {
        "id": "Ne1YJPiBTByU"
      }
    },
    {
      "cell_type": "code",
      "source": [
        "%%html\n",
        "<html>\n",
        "   <head>\n",
        "      <script type = \"text/javascript\" src = \"https://d3js.org/d3.v4.min.js\"></script>\n",
        "   </head>\n",
        "\n",
        "   <body>\n",
        "      <div class = \"myclass\">\n",
        "         Chaitali Gaikwad in color PINK using style() method\n",
        "      </div>\n",
        "\n",
        "      <script>\n",
        "         d3.select(\".myclass\").style(\"color\", \"pink\");\n",
        "      </script>\n",
        "   </body>\n",
        "</html>"
      ],
      "metadata": {
        "colab": {
          "base_uri": "https://localhost:8080/",
          "height": 34
        },
        "id": "pwchbggSQdvM",
        "outputId": "f523041b-6f0f-47f5-dafc-169a6fc193aa"
      },
      "execution_count": null,
      "outputs": [
        {
          "output_type": "display_data",
          "data": {
            "text/plain": [
              "<IPython.core.display.HTML object>"
            ],
            "text/html": [
              "<html>\n",
              "   <head>\n",
              "      <script type = \"text/javascript\" src = \"https://d3js.org/d3.v4.min.js\"></script>\n",
              "   </head>\n",
              "\n",
              "   <body>\n",
              "      <div class = \"myclass\">\n",
              "         Chaitali Gaikwad in color PINK using style() method\n",
              "      </div>\n",
              "      \n",
              "      <script>\n",
              "         d3.select(\".myclass\").style(\"color\", \"pink\");\n",
              "      </script>\n",
              "   </body>\n",
              "</html>\n"
            ]
          },
          "metadata": {}
        }
      ]
    },
    {
      "cell_type": "markdown",
      "source": [
        "## **classed():**\n",
        "The classed() method is exclusively used to set the “class” attribute of an HTML element."
      ],
      "metadata": {
        "id": "qrYMs5YggYFp"
      }
    },
    {
      "cell_type": "markdown",
      "source": [
        "**Add class** − To add a class, the second parameter of the classed method must be set to true.\n",
        "\n",
        "**Remove class** − To remove a class, the second parameter of the classed method must be set to false.\n",
        "\n",
        "**Check class** − To check for the existence of a class, just leave off the second parameter and pass the class name you are querying.\n",
        "\n",
        "**Toggle class** − To flip a class to the opposite state – remove it if it exists already, add it if it does not yet exist – you can do one of the following."
      ],
      "metadata": {
        "id": "3q_mSbG3Tmp0"
      }
    },
    {
      "cell_type": "code",
      "source": [
        "%%html\n",
        "<!DOCTYPE html>\n",
        "<html>\n",
        "   <head>\n",
        "      <script type = \"text/javascript\" src = \"https://d3js.org/d3.v4.min.js\"></script>\n",
        "   </head>\n",
        "\n",
        "   <body>\n",
        "      <h2 class = \"myclass\">VESIT</h2>\n",
        "      <div class = \"myclass\">\n",
        "         Artificial Intelligence and data science\n",
        "      </div>\n",
        "\n",
        "      <script>\n",
        "          d3.select(\".myclass\").classed(\"myanotherclass\", true);\n",
        "          d3.select(\".myclass\").classed(\"myanotherclass\");\n",
        "          d3.select(\".myclass\").classed(\"myanotherclass\", false);\n",
        "      </script>\n",
        "   </body>\n",
        "</html>"
      ],
      "metadata": {
        "colab": {
          "base_uri": "https://localhost:8080/",
          "height": 82
        },
        "id": "GVD84glZQd6b",
        "outputId": "b9433c2f-c967-44e1-9004-470729a648ab"
      },
      "execution_count": null,
      "outputs": [
        {
          "output_type": "display_data",
          "data": {
            "text/plain": [
              "<IPython.core.display.HTML object>"
            ],
            "text/html": [
              "<!DOCTYPE html>\n",
              "<html>\n",
              "   <head>\n",
              "      <script type = \"text/javascript\" src = \"https://d3js.org/d3.v4.min.js\"></script>\n",
              "   </head>\n",
              "\n",
              "   <body>\n",
              "      <h2 class = \"myclass\">VESIT</h2>\n",
              "      <div class = \"myclass\">\n",
              "         Artificial Intelligence and data science\n",
              "      </div>\n",
              "      \n",
              "      <script>\n",
              "          d3.select(\".myclass\").classed(\"myanotherclass\", true);\n",
              "          d3.select(\".myclass\").classed(\"myanotherclass\");\n",
              "          d3.select(\".myclass\").classed(\"myanotherclass\", false);\n",
              "      </script>\n",
              "   </body>\n",
              "</html>\n"
            ]
          },
          "metadata": {}
        }
      ]
    },
    {
      "cell_type": "markdown",
      "source": [
        "## **selectAll():**\n",
        "The selectAll() method is used to select multiple elements in the HTML document."
      ],
      "metadata": {
        "id": "QEV5zqnbUksV"
      }
    },
    {
      "cell_type": "code",
      "source": [
        "%%html\n",
        "<!DOCTYPE html>\n",
        "<html>\n",
        "   <head>\n",
        "      <script type = \"text/javascript\" src = \"https://d3js.org/d3.v4.min.js\"></script>\n",
        "   </head>\n",
        "\n",
        "   <body>\n",
        "      <h2 class = \"myclass\">Message</h2>\n",
        "      <div class = \"myclass\">\n",
        "         Hello World!\n",
        "      </div>\n",
        "\n",
        "      <script>\n",
        "         d3.selectAll(\".myclass\").attr(\"style\", \"color: yellow\");\n",
        "      </script>\n",
        "   </body>\n",
        "</html>"
      ],
      "metadata": {
        "colab": {
          "base_uri": "https://localhost:8080/",
          "height": 82
        },
        "id": "tH3RJqn4QeDs",
        "outputId": "b1872696-4c87-42c5-bdef-ce9eb4501a94"
      },
      "execution_count": null,
      "outputs": [
        {
          "output_type": "display_data",
          "data": {
            "text/plain": [
              "<IPython.core.display.HTML object>"
            ],
            "text/html": [
              "<!DOCTYPE html>\n",
              "<html>\n",
              "   <head>\n",
              "      <script type = \"text/javascript\" src = \"https://d3js.org/d3.v4.min.js\"></script>\n",
              "   </head>\n",
              "\n",
              "   <body>\n",
              "      <h2 class = \"myclass\">Message</h2>\n",
              "      <div class = \"myclass\">\n",
              "         Hello World!\n",
              "      </div>\n",
              "      \n",
              "      <script>\n",
              "         d3.selectAll(\".myclass\").attr(\"style\", \"color: yellow\");\n",
              "      </script>\n",
              "   </body>\n",
              "</html>\n"
            ]
          },
          "metadata": {}
        }
      ]
    },
    {
      "cell_type": "markdown",
      "source": [
        "## **Data join:**\n",
        "\n",
        "The HTML defines a list with two empty list items, and a button to remove the fourth value from the list.\n",
        "\n",
        "The JavaScript section uses D3.js to select the ul element with the id list and then selects all existing li elements inside it.\n",
        "\n",
        "It binds a dataset [10, 20, 30, 25, 15] to these list items using the .data method. This dataset will be used to create or update list items based on its values.\n",
        "\n",
        "The .text method is used to set the text content of each list item. The first .text call updates the existing list items with text like \"This is pre-existing element and the value is \" followed by the corresponding value from the dataset.\n",
        "\n",
        "The .enter method selects any data elements that don't have corresponding DOM elements, and for each missing element, it appends a new li element to the list.\n",
        "\n",
        "For these new list items, another .text call sets the text content similar to the previous one, but this time it specifies that these are dynamically created elements.\n",
        "\n",
        "The remove function is defined to handle the button click event. When the button is clicked, it selects all li elements again, binds a new dataset [10, 20, 30, 15] to them , and then uses the .exit, .remove sequence. This sequence removes any extra elements from the list because they are no longer part of the bound dataset.\n"
      ],
      "metadata": {
        "id": "6qy4MTMYWowc"
      }
    },
    {
      "cell_type": "code",
      "source": [
        "%%html\n",
        "<!DOCTYPE html>\n",
        "<html>\n",
        "   <head>\n",
        "      <script type = \"text/javascript\" src = \"https://d3js.org/d3.v4.min.js\"></script>\n",
        "      <style>\n",
        "         body { font-family: Arial; }\n",
        "      </style>\n",
        "   </head>\n",
        "\n",
        "   <body>\n",
        "      <ul id = \"list\">\n",
        "         <li></li>\n",
        "         <li></li>\n",
        "      </ul>\n",
        "\n",
        "      <input type = \"button\" name = \"remove\" value = \"Remove fourth value\"\n",
        "         onclick = \"javascript:remove()\" />\n",
        "\n",
        "      <script>\n",
        "         d3.select(\"#list\").selectAll(\"li\")\n",
        "            .data([10, 20, 30, 25, 15])\n",
        "            .text(function(d)\n",
        "               { return \"This is pre-existing element and the value is \" + d; })\n",
        "            .enter()\n",
        "            .append(\"li\")\n",
        "            .text(function(d)\n",
        "               { return \"This is dynamically created element and the value is \" + d; });\n",
        "\n",
        "         function remove() {\n",
        "            d3.selectAll(\"li\")\n",
        "            .data([10, 20, 30, 15])\n",
        "            .exit()\n",
        "            .remove()\n",
        "         }\n",
        "      </script>\n",
        "   </body>\n",
        "</html>"
      ],
      "metadata": {
        "colab": {
          "base_uri": "https://localhost:8080/",
          "height": 135
        },
        "id": "4Z1OhGMdQeLl",
        "outputId": "3fcf56bf-bfce-490b-833a-e73312ab3b8d"
      },
      "execution_count": null,
      "outputs": [
        {
          "output_type": "display_data",
          "data": {
            "text/plain": [
              "<IPython.core.display.HTML object>"
            ],
            "text/html": [
              "<!DOCTYPE html>\n",
              "<html>\n",
              "   <head>\n",
              "      <script type = \"text/javascript\" src = \"https://d3js.org/d3.v4.min.js\"></script>\n",
              "      <style>\n",
              "         body { font-family: Arial; }\n",
              "      </style>\n",
              "   </head>\n",
              "\n",
              "   <body>\n",
              "      <ul id = \"list\">\n",
              "         <li></li>\n",
              "         <li></li>\n",
              "      </ul>\n",
              "        \n",
              "      <input type = \"button\" name = \"remove\" value = \"Remove fourth value\" \n",
              "         onclick = \"javascript:remove()\" />\n",
              "      \n",
              "      <script>\n",
              "         d3.select(\"#list\").selectAll(\"li\")\n",
              "            .data([10, 20, 30, 25, 15])\n",
              "            .text(function(d) \n",
              "               { return \"This is pre-existing element and the value is \" + d; })\n",
              "            .enter()\n",
              "            .append(\"li\")\n",
              "            .text(function(d) \n",
              "               { return \"This is dynamically created element and the value is \" + d; });\n",
              "             \n",
              "         function remove() {\n",
              "            d3.selectAll(\"li\")\n",
              "            .data([10, 20, 30, 15])\n",
              "            .exit()\n",
              "            .remove()\n",
              "         }\n",
              "      </script>\n",
              "   </body>\n",
              "</html>\n"
            ]
          },
          "metadata": {}
        }
      ]
    },
    {
      "cell_type": "markdown",
      "source": [
        "## **SVG**"
      ],
      "metadata": {
        "id": "uqO3mt5ag6c8"
      }
    },
    {
      "cell_type": "markdown",
      "source": [
        "SVG stands for Scalable Vector Graphics. SVG is an XML-based vector graphics format. It provides options to draw different shapes such as Lines, Rectangles, Circles, Ellipses, etc. Hence, designing visualizations with SVG gives you more power and flexibility.\n",
        "\n",
        "**Features of SVG:**\n",
        "*   SVG is a vector based image format and it is text-based.\n",
        "*   SVG is similar in structure to HTML.\n",
        "*   SVG can be represented as a Document object model.\n",
        "*   SVG properties can be specified as attributes.\n",
        "*   SVG should have absolute positions relative to the origin (0, 0).\n",
        "*   SVG can be included as is in the HTML document.\n",
        "\n",
        "\n",
        "\n",
        "Step 1 − Create a SVG image and set width as 300 pixel and height as 300 pixel.\n",
        "\n",
        "Step 2 − Create a line starting at 100, 100 and ending at 200, 100 and set red color for the line.\n",
        "\n",
        "Step 3 − Create a HTML document, “svg_line.html” and integrate the above SVG"
      ],
      "metadata": {
        "id": "oPPAAFeRZk0n"
      }
    },
    {
      "cell_type": "code",
      "source": [
        "%%html\n",
        "<!DOCTYPE html>\n",
        "<html>\n",
        "   <head>\n",
        "      <script type = \"text/javascript\" src = \"https://d3js.org/d3.v4.min.js\"></script>\n",
        "      <style>\n",
        "         body { font-family: Arial; }\n",
        "      </style>\n",
        "   </head>\n",
        "\n",
        "   <body>\n",
        "      <div id = \"svgcontainer\">\n",
        "         <svg width = \"300\" height = \"300\">\n",
        "            <line x1 = \"100\" y1 = \"100\"\n",
        "               x2 = \"200\" y2 = \"200\" style = \"stroke:rgb(0,255,0);\n",
        "               stroke-width:2\"/>\n",
        "         </svg>\n",
        "      </div>\n",
        "      <p></p>\n",
        "      <p></p>\n",
        "   </body>\n",
        "</html>"
      ],
      "metadata": {
        "colab": {
          "base_uri": "https://localhost:8080/",
          "height": 327
        },
        "id": "tqBtAQIsQeTb",
        "outputId": "a5a99106-bfd0-40a5-d45a-0dea1df7e5bf"
      },
      "execution_count": null,
      "outputs": [
        {
          "output_type": "display_data",
          "data": {
            "text/plain": [
              "<IPython.core.display.HTML object>"
            ],
            "text/html": [
              "<!DOCTYPE html>\n",
              "<html>\n",
              "   <head>\n",
              "      <script type = \"text/javascript\" src = \"https://d3js.org/d3.v4.min.js\"></script>\n",
              "      <style>\n",
              "         body { font-family: Arial; }\n",
              "      </style>\n",
              "   </head>\n",
              "\n",
              "   <body>\n",
              "      <div id = \"svgcontainer\">\n",
              "         <svg width = \"300\" height = \"300\">\n",
              "            <line x1 = \"100\" y1 = \"100\" \n",
              "               x2 = \"200\" y2 = \"200\" style = \"stroke:rgb(0,255,0);\n",
              "               stroke-width:2\"/>\n",
              "         </svg>\n",
              "      </div>\n",
              "      <p></p>\n",
              "      <p></p>\n",
              "   </body>\n",
              "</html>\n"
            ]
          },
          "metadata": {}
        }
      ]
    },
    {
      "cell_type": "markdown",
      "source": [
        "## **SVG using D3.js**\n",
        "\n",
        "Step 1 − Create a container to hold the SVG image as given below.\n",
        "\n",
        "Step 2 − Select the SVG container using the select() method and inject the SVG element using the append() method. Add the attributes and styles using the attr() and the style() methods.\n",
        "\n",
        "Step 3 − Similarly, add the line element inside the svg element as shown below.\n"
      ],
      "metadata": {
        "id": "cpWNJ0iYZ07l"
      }
    },
    {
      "cell_type": "code",
      "source": [
        "%%html\n",
        "<!DOCTYPE html>\n",
        "<html>\n",
        "   <head>\n",
        "      <script type = \"text/javascript\" src = \"https://d3js.org/d3.v4.min.js\"></script>\n",
        "      <style>\n",
        "         body { font-family: Arial; }\n",
        "      </style>\n",
        "   </head>\n",
        "\n",
        "   <body>\n",
        "      <div id = \"svgcontainer\">\n",
        "      </div>\n",
        "      <script language = \"javascript\">\n",
        "         var width = 300;\n",
        "         var height = 300;\n",
        "         var svg = d3.select(\"#svgcontainer\")\n",
        "            .append(\"svg\")\n",
        "            .attr(\"width\", width)\n",
        "            .attr(\"height\", height);\n",
        "         svg.append(\"line\")\n",
        "            .attr(\"x1\", 100)\n",
        "            .attr(\"y1\", 100)\n",
        "            .attr(\"x2\", 200)\n",
        "            .attr(\"y2\", 200)\n",
        "            .style(\"stroke\", \"rgb(0,255,0)\")\n",
        "            .style(\"stroke-width\", 2);\n",
        "      </script>\n",
        "   </body>\n",
        "</html>"
      ],
      "metadata": {
        "colab": {
          "base_uri": "https://localhost:8080/",
          "height": 321
        },
        "id": "JwR3KeVCXazU",
        "outputId": "163afe78-04f7-4e2f-8c00-e4a0086848b8"
      },
      "execution_count": null,
      "outputs": [
        {
          "output_type": "display_data",
          "data": {
            "text/plain": [
              "<IPython.core.display.HTML object>"
            ],
            "text/html": [
              "<!DOCTYPE html>\n",
              "<html>\n",
              "   <head>\n",
              "      <script type = \"text/javascript\" src = \"https://d3js.org/d3.v4.min.js\"></script>\n",
              "      <style>\n",
              "         body { font-family: Arial; }\n",
              "      </style>\n",
              "   </head>\n",
              "\n",
              "   <body>\n",
              "      <div id = \"svgcontainer\">\n",
              "      </div>\n",
              "      <script language = \"javascript\">\n",
              "         var width = 300;\n",
              "         var height = 300;\n",
              "         var svg = d3.select(\"#svgcontainer\")\n",
              "            .append(\"svg\")\n",
              "            .attr(\"width\", width)\n",
              "            .attr(\"height\", height);\n",
              "         svg.append(\"line\")\n",
              "            .attr(\"x1\", 100)\n",
              "            .attr(\"y1\", 100)\n",
              "            .attr(\"x2\", 200)\n",
              "            .attr(\"y2\", 200)\n",
              "            .style(\"stroke\", \"rgb(0,255,0)\")\n",
              "            .style(\"stroke-width\", 2);\n",
              "      </script>\n",
              "   </body>\n",
              "</html>\n"
            ]
          },
          "metadata": {}
        }
      ]
    },
    {
      "cell_type": "markdown",
      "source": [
        "## **Rectangle Element**\n",
        "\n",
        "A **rectangle** is represented by the rect tag as shown below.\n",
        "\n",
        "The attributes of a rectangle are as follows −\n",
        "\n",
        "x − This is the x-coordinate of the top-left corner of the rectangle.\n",
        "\n",
        "y − This is the y-coordinate of the top-left corner of the rectangle.\n",
        "\n",
        "width − This denotes the width of the rectangle.\n",
        "\n",
        "height − This denotes the height of the rectangle."
      ],
      "metadata": {
        "id": "RUVy32jpaU1G"
      }
    },
    {
      "cell_type": "code",
      "source": [
        "%%html\n",
        "<!DOCTYPE html>\n",
        "<html>\n",
        "   <head>\n",
        "      <script type = \"text/javascript\" src = \"https://d3js.org/d3.v4.min.js\"></script>\n",
        "   </head>\n",
        "\n",
        "   <body>\n",
        "      <div id = \"svgcontainer\"></div>\n",
        "      <script>\n",
        "         var width = 300;\n",
        "         var height = 300;\n",
        "         //Create SVG element\n",
        "         var svg = d3.select(\"#svgcontainer\")\n",
        "            .append(\"svg\")\n",
        "            .attr(\"width\", width)\n",
        "            .attr(\"height\", height);\n",
        "         //Create and append rectangle element\n",
        "         svg.append(\"rect\")\n",
        "            .attr(\"x\", 20)\n",
        "            .attr(\"y\", 20)\n",
        "            .attr(\"width\", 200)\n",
        "            .attr(\"height\", 100)\n",
        "            .attr(\"fill\", \"cyan\");\n",
        "      </script>\n",
        "   </body>\n",
        "</html>"
      ],
      "metadata": {
        "colab": {
          "base_uri": "https://localhost:8080/",
          "height": 321
        },
        "id": "zIUYa0I7aHod",
        "outputId": "dc7d7f71-1355-4298-e517-73f3e5dd6794"
      },
      "execution_count": null,
      "outputs": [
        {
          "output_type": "display_data",
          "data": {
            "text/plain": [
              "<IPython.core.display.HTML object>"
            ],
            "text/html": [
              "<!DOCTYPE html>\n",
              "<html>\n",
              "   <head>\n",
              "      <script type = \"text/javascript\" src = \"https://d3js.org/d3.v4.min.js\"></script>\n",
              "   </head>\n",
              "\n",
              "   <body>\n",
              "      <div id = \"svgcontainer\"></div>\n",
              "      <script>\n",
              "         var width = 300;\n",
              "         var height = 300;\n",
              "         //Create SVG element\n",
              "         var svg = d3.select(\"#svgcontainer\")\n",
              "            .append(\"svg\")\n",
              "            .attr(\"width\", width)\n",
              "            .attr(\"height\", height);\n",
              "         //Create and append rectangle element\n",
              "         svg.append(\"rect\")\n",
              "            .attr(\"x\", 20)\n",
              "            .attr(\"y\", 20)\n",
              "            .attr(\"width\", 200)\n",
              "            .attr(\"height\", 100)\n",
              "            .attr(\"fill\", \"cyan\");\n",
              "      </script>\n",
              "   </body>\n",
              "</html>\n"
            ]
          },
          "metadata": {}
        }
      ]
    },
    {
      "cell_type": "markdown",
      "source": [
        "## **Circle Element**\n",
        "\n",
        "A **circle** is represented by the circle tag as explained below.\n",
        "The attributes of circle are as follows −\n",
        "\n",
        "cx − This is the x-coordinate of the center of the circle.\n",
        "\n",
        "cy − This is the y-coordinate of the center of the circle.\n",
        "\n",
        "r − This denotes the radius of the circle."
      ],
      "metadata": {
        "id": "LgDYI8h1bNC9"
      }
    },
    {
      "cell_type": "code",
      "source": [
        "%%html\n",
        "<!DOCTYPE html>\n",
        "<html>\n",
        "   <head>\n",
        "      <script type = \"text/javascript\" src = \"https://d3js.org/d3.v4.min.js\"></script>\n",
        "   </head>\n",
        "\n",
        "   <body>\n",
        "      <div id = \"svgcontainer\"></div>\n",
        "      <script>\n",
        "         var width = 300;\n",
        "         var height = 300;\n",
        "         //Create SVG element\n",
        "         var svg = d3.select(\"#svgcontainer\")\n",
        "            .append(\"svg\")\n",
        "            .attr(\"width\", width)\n",
        "            .attr(\"height\", height);\n",
        "         //Append circle\n",
        "         svg.append(\"circle\")\n",
        "            .attr(\"cx\", 200)\n",
        "            .attr(\"cy\", 50)\n",
        "            .attr(\"r\", 20)\n",
        "            .attr(\"fill\", \"cyan\");\n",
        "      </script>\n",
        "   </body>\n",
        "</html>"
      ],
      "metadata": {
        "colab": {
          "base_uri": "https://localhost:8080/",
          "height": 321
        },
        "id": "tSH4QQAUautW",
        "outputId": "540cbdb3-8e02-4935-b45f-4bf32f451aee"
      },
      "execution_count": null,
      "outputs": [
        {
          "output_type": "display_data",
          "data": {
            "text/plain": [
              "<IPython.core.display.HTML object>"
            ],
            "text/html": [
              "<!DOCTYPE html>\n",
              "<html>\n",
              "   <head>\n",
              "      <script type = \"text/javascript\" src = \"https://d3js.org/d3.v4.min.js\"></script>\n",
              "   </head>\n",
              "\n",
              "   <body>\n",
              "      <div id = \"svgcontainer\"></div>\n",
              "      <script>\n",
              "         var width = 300;\n",
              "         var height = 300;\n",
              "         //Create SVG element\n",
              "         var svg = d3.select(\"#svgcontainer\")\n",
              "            .append(\"svg\")\n",
              "            .attr(\"width\", width)\n",
              "            .attr(\"height\", height);\n",
              "         //Append circle \n",
              "         svg.append(\"circle\")\n",
              "            .attr(\"cx\", 200)\n",
              "            .attr(\"cy\", 50)\n",
              "            .attr(\"r\", 20)\n",
              "            .attr(\"fill\", \"cyan\");\n",
              "      </script>\n",
              "   </body>\n",
              "</html>\n"
            ]
          },
          "metadata": {}
        }
      ]
    },
    {
      "cell_type": "markdown",
      "source": [
        "## **Ellipse Element**\n",
        "\n",
        "The SVG **Ellipse** element is represented by the <ellipse> tag as explained below.\n",
        "The attributes of an ellipse are as follows −\n",
        "\n",
        "cx − This is the x-coordinate of the center of the ellipse.\n",
        "\n",
        "cy − This is the y-coordinate of the center of the ellipse.\n",
        "\n",
        "rx − This is the x radius of the circle.\n",
        "\n",
        "ry − This is the y radius of the circle."
      ],
      "metadata": {
        "id": "H17OnSnibXy-"
      }
    },
    {
      "cell_type": "code",
      "source": [
        "%%html\n",
        "<html>\n",
        "   <head>\n",
        "      <script type = \"text/javascript\" src = \"https://d3js.org/d3.v4.min.js\"></script>\n",
        "   </head>\n",
        "\n",
        "   <body>\n",
        "      <div id = \"svgcontainer\"></div>\n",
        "      <script>\n",
        "         var width = 300;\n",
        "         var height = 300;\n",
        "         var svg = d3.select(\"#svgcontainer\")\n",
        "            .append(\"svg\")\n",
        "            .attr(\"width\", width)\n",
        "            .attr(\"height\", height);\n",
        "         svg.append(\"ellipse\")\n",
        "            .attr(\"cx\", 200)\n",
        "            .attr(\"cy\", 50)\n",
        "            .attr(\"rx\", 100)\n",
        "            .attr(\"ry\", 50)\n",
        "            .attr(\"fill\", \"cyan\")\n",
        "      </script>\n",
        "   </body>\n",
        "</html>"
      ],
      "metadata": {
        "colab": {
          "base_uri": "https://localhost:8080/",
          "height": 321
        },
        "id": "DBICdUhBbVIV",
        "outputId": "76862302-1e45-4aed-f515-cedc5461700f"
      },
      "execution_count": null,
      "outputs": [
        {
          "output_type": "display_data",
          "data": {
            "text/plain": [
              "<IPython.core.display.HTML object>"
            ],
            "text/html": [
              "<html>\n",
              "   <head>\n",
              "      <script type = \"text/javascript\" src = \"https://d3js.org/d3.v4.min.js\"></script>\n",
              "   </head>\n",
              "\n",
              "   <body>\n",
              "      <div id = \"svgcontainer\"></div>\n",
              "      <script>\n",
              "         var width = 300;\n",
              "         var height = 300;\n",
              "         var svg = d3.select(\"#svgcontainer\")\n",
              "            .append(\"svg\")\n",
              "            .attr(\"width\", width)\n",
              "            .attr(\"height\", height);\n",
              "         svg.append(\"ellipse\")\n",
              "            .attr(\"cx\", 200)\n",
              "            .attr(\"cy\", 50)\n",
              "            .attr(\"rx\", 100)\n",
              "            .attr(\"ry\", 50)\n",
              "            .attr(\"fill\", \"cyan\")\n",
              "      </script>\n",
              "   </body>\n",
              "</html>\n"
            ]
          },
          "metadata": {}
        }
      ]
    },
    {
      "cell_type": "markdown",
      "source": [
        "## **SVG Transformation**"
      ],
      "metadata": {
        "id": "tlmAE5nHhZpD"
      }
    },
    {
      "cell_type": "markdown",
      "source": [
        "SVG provides options to transform a single SVG shape element or group of SVG elements. SVG transform supports **Translate, Scale, Rotate and Skew**.\n",
        "SVG introduces a new attribute, transform to support transformation."
      ],
      "metadata": {
        "id": "MUG9S8Y1bm39"
      }
    },
    {
      "cell_type": "markdown",
      "source": [
        "**SVG rectangle with translate**"
      ],
      "metadata": {
        "id": "PApCNPK4cAxW"
      }
    },
    {
      "cell_type": "code",
      "source": [
        "%%html\n",
        "<html>\n",
        "   <head>\n",
        "      <script type = \"text/javascript\" src = \"https://d3js.org/d3.v4.min.js\"></script>\n",
        "   </head>\n",
        "\n",
        "   <body>\n",
        "      <svg width = \"300\" height = \"300\">\n",
        "         <rect x = \"20\"\n",
        "            y = \"20\"\n",
        "            width = \"60\"\n",
        "            height = \"60\"\n",
        "            fill = \"cyan\"\n",
        "            transform = \"translate(30 30)\">\n",
        "         </rect>\n",
        "      </svg>\n",
        "   </body>\n",
        "</html>"
      ],
      "metadata": {
        "colab": {
          "base_uri": "https://localhost:8080/",
          "height": 321
        },
        "id": "SbsovZeUbg39",
        "outputId": "79f570f3-a7e5-4e83-e31b-fc49cce4d5cd"
      },
      "execution_count": null,
      "outputs": [
        {
          "output_type": "display_data",
          "data": {
            "text/plain": [
              "<IPython.core.display.HTML object>"
            ],
            "text/html": [
              "<html>\n",
              "   <head>\n",
              "      <script type = \"text/javascript\" src = \"https://d3js.org/d3.v4.min.js\"></script>\n",
              "   </head>\n",
              "\n",
              "   <body>\n",
              "      <svg width = \"300\" height = \"300\">\n",
              "         <rect x = \"20\" \n",
              "            y = \"20\"\n",
              "            width = \"60\"\n",
              "            height = \"60\"\n",
              "            fill = \"cyan\"\n",
              "            transform = \"translate(30 30)\">\n",
              "         </rect>\n",
              "      </svg>\n",
              "   </body>\n",
              "</html>\n"
            ]
          },
          "metadata": {}
        }
      ]
    },
    {
      "cell_type": "markdown",
      "source": [
        "More than one transformation can be specified for a single SVG element using space as separation. If more than one value is specified, the transformation will be applied one by one sequentially in the order specified."
      ],
      "metadata": {
        "id": "uTChQKfacJ8d"
      }
    },
    {
      "cell_type": "code",
      "source": [
        "%%html\n",
        "<html>\n",
        "   <head>\n",
        "      <script type = \"text/javascript\" src = \"https://d3js.org/d3.v4.min.js\"></script>\n",
        "   </head>\n",
        "\n",
        "   <body>\n",
        "      <svg width = \"300\" height = \"300\">\n",
        "         <rect x = \"20\"\n",
        "            y = \"20\"\n",
        "            width = \"60\"\n",
        "            height = \"60\"\n",
        "            fill = \"cyan\"\n",
        "            transform = \"translate(60 60) rotate(45)\">\n",
        "         </rect>\n",
        "      </svg>\n",
        "   </body>\n",
        "</html>"
      ],
      "metadata": {
        "colab": {
          "base_uri": "https://localhost:8080/",
          "height": 321
        },
        "id": "xleF3e9acERO",
        "outputId": "d7ba010f-5f08-4e49-eeb6-f8c7d2073862"
      },
      "execution_count": null,
      "outputs": [
        {
          "output_type": "display_data",
          "data": {
            "text/plain": [
              "<IPython.core.display.HTML object>"
            ],
            "text/html": [
              "<html>\n",
              "   <head>\n",
              "      <script type = \"text/javascript\" src = \"https://d3js.org/d3.v4.min.js\"></script>\n",
              "   </head>\n",
              "\n",
              "   <body>\n",
              "      <svg width = \"300\" height = \"300\">\n",
              "         <rect x = \"20\" \n",
              "            y = \"20\" \n",
              "            width = \"60\" \n",
              "            height = \"60\" \n",
              "            fill = \"cyan\" \n",
              "            transform = \"translate(60 60) rotate(45)\">\n",
              "         </rect>\n",
              "      </svg>\n",
              "   </body>\n",
              "</html>\n"
            ]
          },
          "metadata": {}
        }
      ]
    },
    {
      "cell_type": "markdown",
      "source": [
        "Transformation can be applied to the SVG group element as well. This enables to transform complex graphics defined in the SVG as described below."
      ],
      "metadata": {
        "id": "_PfitZYUcOn9"
      }
    },
    {
      "cell_type": "code",
      "source": [
        "%%html\n",
        "<html>\n",
        "   <head>\n",
        "      <script type = \"text/javascript\" src = \"https://d3js.org/d3.v4.min.js\"></script>\n",
        "   </head>\n",
        "\n",
        "   <body>\n",
        "      <svg width = \"300\" height = \"300\">\n",
        "         <g transform = \"translate(60,60) rotate(30)\">\n",
        "            <rect x = \"20\"\n",
        "               y = \"20\"\n",
        "               width = \"60\"\n",
        "               height = \"30\"\n",
        "               fill = \"cyan\">\n",
        "            </rect>\n",
        "            <circle cx = \"0\"\n",
        "               cy = \"0\"\n",
        "               r = \"30\"\n",
        "               fill = \"pink\"/>\n",
        "         </g>\n",
        "      </svg>\n",
        "   </body>\n",
        "</html>"
      ],
      "metadata": {
        "colab": {
          "base_uri": "https://localhost:8080/",
          "height": 321
        },
        "id": "vEAqelFWcNJt",
        "outputId": "25bec9f8-a61b-424a-e43e-2851634d0839"
      },
      "execution_count": null,
      "outputs": [
        {
          "output_type": "display_data",
          "data": {
            "text/plain": [
              "<IPython.core.display.HTML object>"
            ],
            "text/html": [
              "<html>\n",
              "   <head>\n",
              "      <script type = \"text/javascript\" src = \"https://d3js.org/d3.v4.min.js\"></script>\n",
              "   </head>\n",
              "\n",
              "   <body>\n",
              "      <svg width = \"300\" height = \"300\">\n",
              "         <g transform = \"translate(60,60) rotate(30)\">\n",
              "            <rect x = \"20\" \n",
              "               y = \"20\" \n",
              "               width = \"60\" \n",
              "               height = \"30\" \n",
              "               fill = \"cyan\">\n",
              "            </rect>\n",
              "            <circle cx = \"0\" \n",
              "               cy = \"0\" \n",
              "               r = \"30\" \n",
              "               fill = \"pink\"/>\n",
              "         </g>\n",
              "      </svg>\n",
              "   </body>\n",
              "</html>\n"
            ]
          },
          "metadata": {}
        }
      ]
    },
    {
      "cell_type": "markdown",
      "source": [
        "To create an SVG image, try to scale, and rotate it using transformation, let us follow the steps given below.\n",
        "\n",
        "Step 1 − Create an SVG image and set width as 300 pixels and height as 300 pixels.\n",
        "\n",
        "Step 2 − Create an SVG group.\n",
        "\n",
        "Step 3 − Create a rectangle of length 60 and height 30 and fill it with cyan color.\n",
        "\n",
        "Step 4 − Create a circle of radius 30 and fill it with *maroon* color.\n",
        "\n",
        "Step 5 − Add a transform attribute and add translate and rotate\n",
        "\n",
        "Step 6 − Create an HTML document, “svg_transform_rotate_group.html” and integrate the above"
      ],
      "metadata": {
        "id": "jIagdvNfcYJs"
      }
    },
    {
      "cell_type": "code",
      "source": [
        "%%html\n",
        "<!DOCTYPE html>\n",
        "<html>\n",
        "   <head>\n",
        "      <script type = \"text/javascript\" src = \"https://d3js.org/d3.v4.min.js\"></script>\n",
        "      <style>\n",
        "         body { font-family: Arial; }\n",
        "      </style>\n",
        "   </head>\n",
        "\n",
        "   <body>\n",
        "      <div id = \"svgcontainer\">\n",
        "         <svg width = \"300\" height = \"300\">\n",
        "            <g transform = \"translate(60,60) rotate(30)\">\n",
        "               <rect x = \"20\"\n",
        "                  y = \"20\"\n",
        "                  width = \"60\"\n",
        "                  height = \"60\"\n",
        "                  fill = \"cyan\">\n",
        "               </rect>\n",
        "               <circle cx = \"0\"\n",
        "                  cy = \"0\"\n",
        "                  r = \"30\"\n",
        "                  fill = \"maroon\"/>\n",
        "            </g>\n",
        "         </svg>\n",
        "      </div>\n",
        "   </body>\n",
        "</html>"
      ],
      "metadata": {
        "colab": {
          "base_uri": "https://localhost:8080/",
          "height": 321
        },
        "id": "UuGeUmd5cSgG",
        "outputId": "564f7dc1-fd1f-4749-ee42-2f341c5cddf7"
      },
      "execution_count": null,
      "outputs": [
        {
          "output_type": "display_data",
          "data": {
            "text/plain": [
              "<IPython.core.display.HTML object>"
            ],
            "text/html": [
              "<!DOCTYPE html>\n",
              "<html>\n",
              "   <head>\n",
              "      <script type = \"text/javascript\" src = \"https://d3js.org/d3.v4.min.js\"></script>\n",
              "      <style>\n",
              "         body { font-family: Arial; }\n",
              "      </style>\n",
              "   </head>\n",
              "\n",
              "   <body>\n",
              "      <div id = \"svgcontainer\">\n",
              "         <svg width = \"300\" height = \"300\">\n",
              "            <g transform = \"translate(60,60) rotate(30)\">\n",
              "               <rect x = \"20\" \n",
              "                  y = \"20\" \n",
              "                  width = \"60\" \n",
              "                  height = \"60\" \n",
              "                  fill = \"cyan\">\n",
              "               </rect>\n",
              "               <circle cx = \"0\" \n",
              "                  cy = \"0\" \n",
              "                  r = \"30\" \n",
              "                  fill = \"maroon\"/>\n",
              "            </g>\n",
              "         </svg>\n",
              "      </div>\n",
              "   </body>\n",
              "</html>\n"
            ]
          },
          "metadata": {}
        }
      ]
    },
    {
      "cell_type": "markdown",
      "source": [
        "# **Transformation Using D3.js**\n",
        "\n",
        "Step 1 − Create a container to hold the SVG image\n",
        "\n",
        "Step 2 − Create a SVG image\n",
        "\n",
        "Step 3 − Create a SVG group element and set translate and rotate attributes.\n",
        "\n",
        "Step 4 − Create an SVG rectangle and append it inside the group.\n",
        "\n",
        "Step 5 − Create an SVG circle and append it inside the group.\n"
      ],
      "metadata": {
        "id": "BQp4jSNPc0dH"
      }
    },
    {
      "cell_type": "code",
      "source": [
        "%%html\n",
        "<!DOCTYPE html>\n",
        "<html lang = \"en\">\n",
        "   <head>\n",
        "      <title>SVG rectangle</title>\n",
        "      <script type = \"text/javascript\" src = \"https://d3js.org/d3.v4.min.js\"></script>\n",
        "      <style>\n",
        "         body { font-family: Arial; }\n",
        "      </style>\n",
        "   </head>\n",
        "\n",
        "   <body>\n",
        "      <div id = \"svgcontainer\"></div>\n",
        "         <script language = \"javascript\">\n",
        "            var width = 300;\n",
        "            var height = 300;\n",
        "            var svg = d3.select(\"#svgcontainer\")\n",
        "               .append(\"svg\")\n",
        "               .attr(\"width\", width)\n",
        "               .attr(\"height\", height);\n",
        "\n",
        "            var group = svg.append(\"g\")\n",
        "               .attr(\"transform\", \"translate(60, 60) rotate(30)\");\n",
        "\n",
        "            var rect = group.append(\"rect\")\n",
        "               .attr(\"x\", 20)\n",
        "               .attr(\"y\", 20)\n",
        "               .attr(\"width\", 60)\n",
        "               .attr(\"height\", 30)\n",
        "               .attr(\"fill\", \"cyan\")\n",
        "\n",
        "            var circle = group\n",
        "               .append(\"circle\")\n",
        "               .attr(\"cx\", 0)\n",
        "               .attr(\"cy\", 0)\n",
        "               .attr(\"r\", 30)\n",
        "               .attr(\"fill\", \"pink\")\n",
        "         </script>\n",
        "      </div>\n",
        "   </body>\n",
        "</html>"
      ],
      "metadata": {
        "colab": {
          "base_uri": "https://localhost:8080/",
          "height": 321
        },
        "id": "G410Dq1Pct88",
        "outputId": "d6dd2f33-1193-458c-92be-467db639eb1b"
      },
      "execution_count": null,
      "outputs": [
        {
          "output_type": "display_data",
          "data": {
            "text/plain": [
              "<IPython.core.display.HTML object>"
            ],
            "text/html": [
              "<!DOCTYPE html>\n",
              "<html lang = \"en\">\n",
              "   <head>\n",
              "      <title>SVG rectangle</title>\n",
              "      <script type = \"text/javascript\" src = \"https://d3js.org/d3.v4.min.js\"></script>\n",
              "      <style>\n",
              "         body { font-family: Arial; }\n",
              "      </style>\n",
              "   </head>\n",
              "\n",
              "   <body>\n",
              "      <div id = \"svgcontainer\"></div>\n",
              "         <script language = \"javascript\">\n",
              "            var width = 300;\n",
              "            var height = 300;\n",
              "            var svg = d3.select(\"#svgcontainer\")\n",
              "               .append(\"svg\")\n",
              "               .attr(\"width\", width)\n",
              "               .attr(\"height\", height);\n",
              "\n",
              "            var group = svg.append(\"g\")\n",
              "               .attr(\"transform\", \"translate(60, 60) rotate(30)\");\n",
              "            \n",
              "            var rect = group.append(\"rect\")\n",
              "               .attr(\"x\", 20)\n",
              "               .attr(\"y\", 20)\n",
              "               .attr(\"width\", 60)\n",
              "               .attr(\"height\", 30)\n",
              "               .attr(\"fill\", \"cyan\")\n",
              "            \n",
              "            var circle = group\n",
              "               .append(\"circle\")\n",
              "               .attr(\"cx\", 0)\n",
              "               .attr(\"cy\", 0)\n",
              "               .attr(\"r\", 30)\n",
              "               .attr(\"fill\", \"pink\")\n",
              "         </script>\n",
              "      </div>\n",
              "   </body>\n",
              "</html>\n"
            ]
          },
          "metadata": {}
        }
      ]
    },
    {
      "cell_type": "markdown",
      "source": [
        "## **transition():**\n",
        "\n",
        "The transition() method is available for all selectors and it starts the transition process. This method supports most of the selection methods such as – attr(), style(), etc. But, It does not support the append() and the data() methods, which need to be called before the transition() method. Also, it provides methods specific to transition like duration(), ease(), etc."
      ],
      "metadata": {
        "id": "OWiWhK_7dMlv"
      }
    },
    {
      "cell_type": "code",
      "source": [
        "%%html\n",
        "<!DOCTYPE html>\n",
        "<html>\n",
        "   <head>\n",
        "      <script type = \"text/javascript\" src = \"https://d3js.org/d3.v4.min.js\"></script>\n",
        "   </head>\n",
        "\n",
        "   <body>\n",
        "      <h3>Chaitali Gaikwad</h3>\n",
        "      <script>\n",
        "         d3.select(\"body\").transition().style(\"background-color\", \"maroon\");\n",
        "      </script>\n",
        "   </body>\n",
        "</html>"
      ],
      "metadata": {
        "colab": {
          "base_uri": "https://localhost:8080/",
          "height": 58
        },
        "id": "W6YgTC1hdHRY",
        "outputId": "999994e9-1f55-4b32-b373-17de8f54a029"
      },
      "execution_count": null,
      "outputs": [
        {
          "output_type": "display_data",
          "data": {
            "text/plain": [
              "<IPython.core.display.HTML object>"
            ],
            "text/html": [
              "<!DOCTYPE html>\n",
              "<html>\n",
              "   <head>\n",
              "      <script type = \"text/javascript\" src = \"https://d3js.org/d3.v4.min.js\"></script>\n",
              "   </head>\n",
              "\n",
              "   <body>\n",
              "      <h3>Chaitali Gaikwad</h3>\n",
              "      <script>\n",
              "         d3.select(\"body\").transition().style(\"background-color\", \"maroon\");\n",
              "      </script>\n",
              "   </body>\n",
              "</html>\n"
            ]
          },
          "metadata": {}
        }
      ]
    },
    {
      "cell_type": "markdown",
      "source": [
        "## **D3.js Animation**\n",
        "\n",
        "D3.js supports animation through transition. We can do animation with proper use of transition. Transitions are a limited form of Key Frame Animation with only two key frames – start and end. The starting key frame is typically the current state of the DOM, and the ending key frame is a set of attributes, styles and other properties you specify."
      ],
      "metadata": {
        "id": "7WdnjwRZhtVR"
      }
    },
    {
      "cell_type": "code",
      "source": [
        "%%html\n",
        "<!DOCTYPE html>\n",
        "<html>\n",
        "   <head>\n",
        "      <script type = \"text/javascript\" src = \"https://d3js.org/d3.v4.min.js\"></script>\n",
        "   </head>\n",
        "\n",
        "   <body>\n",
        "      <h3>Chaitali Gaikwad</h3>\n",
        "      <script>\n",
        "         d3.select(\"body\").style(\"background-color\", \"lightblue\")\n",
        "         // make the background-color lightblue.transition()\n",
        "         .style(\"background-color\", \"gray\");\n",
        "         // make the background-color gray\n",
        "      </script>\n",
        "   </body>\n",
        "</html>"
      ],
      "metadata": {
        "id": "MN003ybChIpA",
        "colab": {
          "base_uri": "https://localhost:8080/",
          "height": 58
        },
        "outputId": "ae60fe58-9e10-49ca-e206-965e482d2369"
      },
      "execution_count": 6,
      "outputs": [
        {
          "output_type": "display_data",
          "data": {
            "text/plain": [
              "<IPython.core.display.HTML object>"
            ],
            "text/html": [
              "<!DOCTYPE html>\n",
              "<html>\n",
              "   <head>\n",
              "      <script type = \"text/javascript\" src = \"https://d3js.org/d3.v4.min.js\"></script>\n",
              "   </head>\n",
              "\n",
              "   <body>\n",
              "      <h3>Chaitali Gaikwad</h3>\n",
              "      <script>\n",
              "         d3.select(\"body\").style(\"background-color\", \"lightblue\") \n",
              "         // make the background-color lightblue.transition()\n",
              "         .style(\"background-color\", \"gray\");\n",
              "         // make the background-color gray\n",
              "      </script>\n",
              "   </body>\n",
              "</html>\n"
            ]
          },
          "metadata": {}
        }
      ]
    },
    {
      "cell_type": "markdown",
      "source": [
        "## **duration()**\n",
        "The duration() method allows property changes to occur smoothly over a specified duration rather than instantaneously.\n"
      ],
      "metadata": {
        "id": "D3Xik4bNiCZ4"
      }
    },
    {
      "cell_type": "code",
      "source": [
        "%%html\n",
        "<!DOCTYPE html>\n",
        "<html>\n",
        "   <head>\n",
        "      <script type = \"text/javascript\" src = \"https://d3js.org/d3.v4.min.js\"></script>\n",
        "   </head>\n",
        "\n",
        "   <body>\n",
        "      <h3>Chaitali Gaikwad</h3>\n",
        "      <script>\n",
        "         d3.selectAll(\"h3\").transition().style(\"color\",\"green\").duration(5000);\n",
        "      </script>\n",
        "   </body>\n",
        "</html>"
      ],
      "metadata": {
        "colab": {
          "base_uri": "https://localhost:8080/",
          "height": 58
        },
        "id": "s0bPfKurh2ug",
        "outputId": "655e879a-2985-4874-f5c8-86b2b8ea987e"
      },
      "execution_count": 5,
      "outputs": [
        {
          "output_type": "display_data",
          "data": {
            "text/plain": [
              "<IPython.core.display.HTML object>"
            ],
            "text/html": [
              "<!DOCTYPE html>\n",
              "<html>\n",
              "   <head>\n",
              "      <script type = \"text/javascript\" src = \"https://d3js.org/d3.v4.min.js\"></script>\n",
              "   </head>\n",
              "\n",
              "   <body>\n",
              "      <h3>Chaitali Gaikwad</h3>\n",
              "      <script>\n",
              "         d3.selectAll(\"h3\").transition().style(\"color\",\"green\").duration(5000);\n",
              "      </script>\n",
              "   </body>\n",
              "</html>\n"
            ]
          },
          "metadata": {}
        }
      ]
    },
    {
      "cell_type": "markdown",
      "source": [
        "## **delay()**\n",
        "\n",
        "The delay() method allows a transition to take place after a certain period of time."
      ],
      "metadata": {
        "id": "8Aq3PFueiUaK"
      }
    },
    {
      "cell_type": "code",
      "source": [
        "%%html\n",
        "<!DOCTYPE html>\n",
        "<html>\n",
        "   <head>\n",
        "      <script type = \"text/javascript\" src = \"https://d3js.org/d3.v4.min.js\"></script>\n",
        "   </head>\n",
        "\n",
        "   <body>\n",
        "      <h3> Chaitali Gaikwad </h3>\n",
        "      <script>\n",
        "         d3.selectAll(\"h3\").transition()\n",
        "            .style(\"font-size\",\"28px\").delay(2000).duration(2000);\n",
        "      </script>\n",
        "   </body>\n",
        "</html>"
      ],
      "metadata": {
        "colab": {
          "base_uri": "https://localhost:8080/",
          "height": 84
        },
        "id": "9O5I0tZ4iIU7",
        "outputId": "fe8cece1-ad00-4053-ee6e-ae27a280bec7"
      },
      "execution_count": 4,
      "outputs": [
        {
          "output_type": "display_data",
          "data": {
            "text/plain": [
              "<IPython.core.display.HTML object>"
            ],
            "text/html": [
              "<!DOCTYPE html>\n",
              "<html>\n",
              "   <head>\n",
              "      <script type = \"text/javascript\" src = \"https://d3js.org/d3.v4.min.js\"></script>\n",
              "   </head>\n",
              "\n",
              "   <body>\n",
              "      <h3> Chaitali Gaikwad </h3>\n",
              "      <script>\n",
              "         d3.selectAll(\"h3\").transition()\n",
              "            .style(\"font-size\",\"28px\").delay(2000).duration(2000);\n",
              "      </script>\n",
              "   </body>\n",
              "</html>\n"
            ]
          },
          "metadata": {}
        }
      ]
    }
  ]
}