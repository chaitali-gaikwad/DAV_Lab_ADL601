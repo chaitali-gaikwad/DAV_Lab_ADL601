{
  "nbformat": 4,
  "nbformat_minor": 0,
  "metadata": {
    "colab": {
      "provenance": []
    },
    "kernelspec": {
      "name": "python3",
      "display_name": "Python 3"
    },
    "language_info": {
      "name": "python"
    }
  },
  "cells": [
    {
      "cell_type": "markdown",
      "source": [
        "# **Aim:**\n",
        "Event Handling with D3.js"
      ],
      "metadata": {
        "id": "ZI1TMsqWvdi5"
      }
    },
    {
      "cell_type": "markdown",
      "source": [
        "1. Hover on circle to change colour"
      ],
      "metadata": {
        "id": "BEvuJzAfu_8E"
      }
    },
    {
      "cell_type": "code",
      "execution_count": 2,
      "metadata": {
        "colab": {
          "base_uri": "https://localhost:8080/",
          "height": 222
        },
        "id": "VkN5ONYSr71_",
        "outputId": "d3ea17e3-9697-46cd-8b7a-028d177d3304"
      },
      "outputs": [
        {
          "output_type": "display_data",
          "data": {
            "text/plain": [
              "<IPython.core.display.HTML object>"
            ],
            "text/html": [
              "<!DOCTYPE html>\n",
              "<html lang=\"en\">\n",
              "<head>\n",
              "  <meta charset=\"UTF-8\">\n",
              "  <title>D3.js Mouse Events</title>\n",
              "  <script src=\"https://d3js.org/d3.v7.min.js\"></script>\n",
              "  <style>\n",
              "    .circle {\n",
              "      fill: steelblue;\n",
              "    }\n",
              "    .highlighted {\n",
              "      fill: orange;\n",
              "    }\n",
              "  </style>\n",
              "</head>\n",
              "<body>\n",
              "  <svg width=\"200\" height=\"200\">\n",
              "    <circle class=\"circle\" cx=\"50\" cy=\"50\" r=\"20\"></circle>\n",
              "    <circle class=\"circle\" cx=\"100\" cy=\"100\" r=\"20\"></circle>\n",
              "    <circle class=\"circle\" cx=\"150\" cy=\"150\" r=\"20\"></circle>\n",
              "  </svg>\n",
              "\n",
              "  <script>\n",
              "    d3.selectAll(\".circle\")\n",
              "      .on(\"mouseover\", function() {\n",
              "        d3.select(this).classed(\"highlighted\", true);\n",
              "      })\n",
              "      .on(\"mouseout\", function() {\n",
              "        d3.select(this).classed(\"highlighted\", false);\n",
              "      });\n",
              "  </script>\n",
              "</body>\n",
              "</html>\n"
            ]
          },
          "metadata": {}
        }
      ],
      "source": [
        "%%html\n",
        "<!DOCTYPE html>\n",
        "<html lang=\"en\">\n",
        "<head>\n",
        "  <meta charset=\"UTF-8\">\n",
        "  <title>D3.js Mouse Events</title>\n",
        "  <script src=\"https://d3js.org/d3.v7.min.js\"></script>\n",
        "  <style>\n",
        "    .circle {\n",
        "      fill: steelblue;\n",
        "    }\n",
        "    .highlighted {\n",
        "      fill: orange;\n",
        "    }\n",
        "  </style>\n",
        "</head>\n",
        "<body>\n",
        "  <svg width=\"200\" height=\"200\">\n",
        "    <circle class=\"circle\" cx=\"50\" cy=\"50\" r=\"20\"></circle>\n",
        "    <circle class=\"circle\" cx=\"100\" cy=\"100\" r=\"20\"></circle>\n",
        "    <circle class=\"circle\" cx=\"150\" cy=\"150\" r=\"20\"></circle>\n",
        "  </svg>\n",
        "\n",
        "  <script>\n",
        "    d3.selectAll(\".circle\")\n",
        "      .on(\"mouseover\", function() {\n",
        "        d3.select(this).classed(\"highlighted\", true);\n",
        "      })\n",
        "      .on(\"mouseout\", function() {\n",
        "        d3.select(this).classed(\"highlighted\", false);\n",
        "      });\n",
        "  </script>\n",
        "</body>\n",
        "</html>\n"
      ]
    },
    {
      "cell_type": "markdown",
      "source": [
        "2. Click on circle to move them"
      ],
      "metadata": {
        "id": "uJpPSjuWvFjM"
      }
    },
    {
      "cell_type": "code",
      "source": [
        "%%html\n",
        "<!DOCTYPE html>\n",
        "<html lang=\"en\">\n",
        "<head>\n",
        "  <meta charset=\"UTF-8\">\n",
        "  <title>D3.js Drag and Drop</title>\n",
        "  <script src=\"https://d3js.org/d3.v7.min.js\"></script>\n",
        "  <style>\n",
        "    .circle {\n",
        "      fill: steelblue;\n",
        "      cursor: pointer;\n",
        "    }\n",
        "  </style>\n",
        "</head>\n",
        "<body>\n",
        "  <svg width=\"200\" height=\"200\">\n",
        "    <circle class=\"circle\" cx=\"50\" cy=\"50\" r=\"20\"></circle>\n",
        "    <circle class=\"circle\" cx=\"100\" cy=\"100\" r=\"20\"></circle>\n",
        "    <circle class=\"circle\" cx=\"150\" cy=\"150\" r=\"20\"></circle>\n",
        "  </svg>\n",
        "\n",
        "  <script>\n",
        "    d3.selectAll(\".circle\")\n",
        "      .call(d3.drag()\n",
        "        .on(\"start\", function() {\n",
        "          d3.select(this).raise().classed(\"active\", true);\n",
        "        })\n",
        "        .on(\"drag\", function(event) {\n",
        "          d3.select(this)\n",
        "            .attr(\"cx\", event.x)\n",
        "            .attr(\"cy\", event.y);\n",
        "        })\n",
        "        .on(\"end\", function() {\n",
        "          d3.select(this).classed(\"active\", false);\n",
        "        })\n",
        "      );\n",
        "  </script>\n",
        "</body>\n",
        "</html>\n"
      ],
      "metadata": {
        "colab": {
          "base_uri": "https://localhost:8080/",
          "height": 222
        },
        "id": "hxYhiWDNr9Jb",
        "outputId": "9d209372-905f-4f4c-e319-0cd8aa0db038"
      },
      "execution_count": 4,
      "outputs": [
        {
          "output_type": "display_data",
          "data": {
            "text/plain": [
              "<IPython.core.display.HTML object>"
            ],
            "text/html": [
              "<!DOCTYPE html>\n",
              "<html lang=\"en\">\n",
              "<head>\n",
              "  <meta charset=\"UTF-8\">\n",
              "  <title>D3.js Drag and Drop</title>\n",
              "  <script src=\"https://d3js.org/d3.v7.min.js\"></script>\n",
              "  <style>\n",
              "    .circle {\n",
              "      fill: steelblue;\n",
              "      cursor: pointer;\n",
              "    }\n",
              "  </style>\n",
              "</head>\n",
              "<body>\n",
              "  <svg width=\"200\" height=\"200\">\n",
              "    <circle class=\"circle\" cx=\"50\" cy=\"50\" r=\"20\"></circle>\n",
              "    <circle class=\"circle\" cx=\"100\" cy=\"100\" r=\"20\"></circle>\n",
              "    <circle class=\"circle\" cx=\"150\" cy=\"150\" r=\"20\"></circle>\n",
              "  </svg>\n",
              "\n",
              "  <script>\n",
              "    d3.selectAll(\".circle\")\n",
              "      .call(d3.drag()\n",
              "        .on(\"start\", function() {\n",
              "          d3.select(this).raise().classed(\"active\", true);\n",
              "        })\n",
              "        .on(\"drag\", function(event) {\n",
              "          d3.select(this)\n",
              "            .attr(\"cx\", event.x)\n",
              "            .attr(\"cy\", event.y);\n",
              "        })\n",
              "        .on(\"end\", function() {\n",
              "          d3.select(this).classed(\"active\", false);\n",
              "        })\n",
              "      );\n",
              "  </script>\n",
              "</body>\n",
              "</html>\n"
            ]
          },
          "metadata": {}
        }
      ]
    },
    {
      "cell_type": "markdown",
      "source": [
        "3. Hover on Circle to see tooltip"
      ],
      "metadata": {
        "id": "kC5IE-lou5Hn"
      }
    },
    {
      "cell_type": "code",
      "source": [
        "%%html\n",
        "<!DOCTYPE html>\n",
        "<html lang=\"en\">\n",
        "<head>\n",
        "  <meta charset=\"UTF-8\">\n",
        "  <title>D3.js Tooltips on Hover</title>\n",
        "  <script src=\"https://d3js.org/d3.v7.min.js\"></script>\n",
        "  <style>\n",
        "    .circle {\n",
        "      fill: steelblue;\n",
        "    }\n",
        "    .tooltip {\n",
        "      position: absolute;\n",
        "      padding: 10px;\n",
        "      background: rgba(0, 0, 0, 0.8);\n",
        "      color: white;\n",
        "      font-size: 12px;\n",
        "      pointer-events: none;\n",
        "      display: none;\n",
        "    }\n",
        "  </style>\n",
        "</head>\n",
        "<body>\n",
        "  <svg width=\"400\" height=\"200\">\n",
        "  </svg>\n",
        "\n",
        "  <div class=\"tooltip\"></div>\n",
        "\n",
        "  <script>\n",
        "    var svg = d3.select(\"svg\");\n",
        "    var tooltip = d3.select(\".tooltip\");\n",
        "\n",
        "    svg.append(\"circle\")\n",
        "      .attr(\"cx\", 90)\n",
        "      .attr(\"cy\", 90)\n",
        "      .attr(\"r\", 80)\n",
        "      .attr(\"class\", \"circle\");\n",
        "\n",
        "    svg.selectAll(\".circle\")\n",
        "      .on(\"mouseover\", function(event, d) {\n",
        "        var coords = d3.pointer(event);\n",
        "        tooltip.style(\"display\", \"block\")\n",
        "          .style(\"left\", (coords[0] + 10) + \"px\")\n",
        "          .style(\"top\", (coords[1] - 20) + \"px\")\n",
        "          .html(\"Coordinates: \" + coords[0] + \", \" + coords[1]);\n",
        "      })\n",
        "      .on(\"mouseout\", function() {\n",
        "        tooltip.style(\"display\", \"none\");\n",
        "      });\n",
        "  </script>\n",
        "</body>\n",
        "</html>\n"
      ],
      "metadata": {
        "colab": {
          "base_uri": "https://localhost:8080/",
          "height": 222
        },
        "id": "S268rxessD5I",
        "outputId": "85f29e02-7910-4982-ea4b-a462efa69cc6"
      },
      "execution_count": 8,
      "outputs": [
        {
          "output_type": "display_data",
          "data": {
            "text/plain": [
              "<IPython.core.display.HTML object>"
            ],
            "text/html": [
              "<!DOCTYPE html>\n",
              "<html lang=\"en\">\n",
              "<head>\n",
              "  <meta charset=\"UTF-8\">\n",
              "  <title>D3.js Tooltips on Hover</title>\n",
              "  <script src=\"https://d3js.org/d3.v7.min.js\"></script>\n",
              "  <style>\n",
              "    .circle {\n",
              "      fill: steelblue;\n",
              "    }\n",
              "    .tooltip {\n",
              "      position: absolute;\n",
              "      padding: 10px;\n",
              "      background: rgba(0, 0, 0, 0.8);\n",
              "      color: white;\n",
              "      font-size: 12px;\n",
              "      pointer-events: none;\n",
              "      display: none;\n",
              "    }\n",
              "  </style>\n",
              "</head>\n",
              "<body>\n",
              "  <svg width=\"400\" height=\"200\">\n",
              "  </svg>\n",
              "\n",
              "  <div class=\"tooltip\"></div>\n",
              "\n",
              "  <script>\n",
              "    var svg = d3.select(\"svg\");\n",
              "    var tooltip = d3.select(\".tooltip\");\n",
              "\n",
              "    svg.append(\"circle\")\n",
              "      .attr(\"cx\", 90)\n",
              "      .attr(\"cy\", 90)\n",
              "      .attr(\"r\", 80)\n",
              "      .attr(\"class\", \"circle\");\n",
              "\n",
              "    svg.selectAll(\".circle\")\n",
              "      .on(\"mouseover\", function(event, d) {\n",
              "        var coords = d3.pointer(event);\n",
              "        tooltip.style(\"display\", \"block\")\n",
              "          .style(\"left\", (coords[0] + 10) + \"px\")\n",
              "          .style(\"top\", (coords[1] - 20) + \"px\")\n",
              "          .html(\"Coordinates: \" + coords[0] + \", \" + coords[1]);\n",
              "      })\n",
              "      .on(\"mouseout\", function() {\n",
              "        tooltip.style(\"display\", \"none\");\n",
              "      });\n",
              "  </script>\n",
              "</body>\n",
              "</html>\n"
            ]
          },
          "metadata": {}
        }
      ]
    },
    {
      "cell_type": "markdown",
      "source": [
        "4. Zoom Circles"
      ],
      "metadata": {
        "id": "MLPLgBYsvLwP"
      }
    },
    {
      "cell_type": "code",
      "source": [
        "%%html\n",
        "<!DOCTYPE html>\n",
        "<html lang=\"en\">\n",
        "<head>\n",
        "  <meta charset=\"UTF-8\">\n",
        "  <title>D3.js Zoom and Pan</title>\n",
        "  <script src=\"https://d3js.org/d3.v7.min.js\"></script>\n",
        "  <style>\n",
        "    svg {\n",
        "      border: 1px solid #ddd;\n",
        "    }\n",
        "  </style>\n",
        "</head>\n",
        "<body>\n",
        "  <svg width=\"400\" height=\"200\">\n",
        "    <g>\n",
        "      <circle cx=\"50\" cy=\"50\" r=\"20\"></circle>\n",
        "      <circle cx=\"100\" cy=\"100\" r=\"20\"></circle>\n",
        "      <circle cx=\"150\" cy=\"150\" r=\"20\"></circle>\n",
        "    </g>\n",
        "  </svg>\n",
        "\n",
        "  <script>\n",
        "    var svg = d3.select(\"svg\");\n",
        "    var container = svg.select(\"g\");\n",
        "\n",
        "    var zoom = d3.zoom()\n",
        "      .scaleExtent([1, 10])\n",
        "      .on(\"zoom\", function(event) {\n",
        "        container.attr(\"transform\", event.transform);\n",
        "      });\n",
        "\n",
        "    svg.call(zoom);\n",
        "  </script>\n",
        "</body>\n",
        "</html>\n"
      ],
      "metadata": {
        "colab": {
          "base_uri": "https://localhost:8080/",
          "height": 223
        },
        "id": "nX8hT36msLKv",
        "outputId": "dcef1c9d-58a0-49e9-af3d-02286a09a7d0"
      },
      "execution_count": 10,
      "outputs": [
        {
          "output_type": "display_data",
          "data": {
            "text/plain": [
              "<IPython.core.display.HTML object>"
            ],
            "text/html": [
              "<!DOCTYPE html>\n",
              "<html lang=\"en\">\n",
              "<head>\n",
              "  <meta charset=\"UTF-8\">\n",
              "  <title>D3.js Zoom and Pan</title>\n",
              "  <script src=\"https://d3js.org/d3.v7.min.js\"></script>\n",
              "  <style>\n",
              "    svg {\n",
              "      border: 1px solid #ddd;\n",
              "    }\n",
              "  </style>\n",
              "</head>\n",
              "<body>\n",
              "  <svg width=\"400\" height=\"200\">\n",
              "    <g>\n",
              "      <circle cx=\"50\" cy=\"50\" r=\"20\"></circle>\n",
              "      <circle cx=\"100\" cy=\"100\" r=\"20\"></circle>\n",
              "      <circle cx=\"150\" cy=\"150\" r=\"20\"></circle>\n",
              "    </g>\n",
              "  </svg>\n",
              "\n",
              "  <script>\n",
              "    var svg = d3.select(\"svg\");\n",
              "    var container = svg.select(\"g\");\n",
              "\n",
              "    var zoom = d3.zoom()\n",
              "      .scaleExtent([1, 10])\n",
              "      .on(\"zoom\", function(event) {\n",
              "        container.attr(\"transform\", event.transform);\n",
              "      });\n",
              "\n",
              "    svg.call(zoom);\n",
              "  </script>\n",
              "</body>\n",
              "</html>\n"
            ]
          },
          "metadata": {}
        }
      ]
    },
    {
      "cell_type": "markdown",
      "source": [
        "5. Drag points and they get highlighted on hover"
      ],
      "metadata": {
        "id": "v-R9jhKyvTXG"
      }
    },
    {
      "cell_type": "code",
      "source": [
        "%%html\n",
        "<!DOCTYPE html>\n",
        "<html lang=\"en\">\n",
        "<head>\n",
        "  <meta charset=\"UTF-8\">\n",
        "  <title>D3.js Scatter Plot with Drag and Highlight</title>\n",
        "  <script src=\"https://d3js.org/d3.v7.min.js\"></script>\n",
        "  <style>\n",
        "    .dot {\n",
        "      fill: steelblue;\n",
        "      cursor: pointer;\n",
        "    }\n",
        "    .dot.active {\n",
        "      fill: orange;\n",
        "    }\n",
        "  </style>\n",
        "</head>\n",
        "<body>\n",
        "  <svg width=\"400\" height=\"200\"></svg>\n",
        "\n",
        "  <script>\n",
        "    var data = [\n",
        "      { x: 30, y: 40 },\n",
        "      { x: 70, y: 90 },\n",
        "      { x: 110, y: 20 },\n",
        "      { x: 150, y: 120 },\n",
        "      { x: 190, y: 60 }\n",
        "    ];\n",
        "\n",
        "    var svg = d3.select(\"svg\");\n",
        "\n",
        "    var xScale = d3.scaleLinear()\n",
        "      .domain([0, 200])\n",
        "      .range([0, 400]);\n",
        "\n",
        "    var yScale = d3.scaleLinear()\n",
        "      .domain([0, 120])\n",
        "      .range([200, 0]);\n",
        "\n",
        "    svg.selectAll(\".dot\")\n",
        "      .data(data)\n",
        "      .enter().append(\"circle\")\n",
        "      .attr(\"class\", \"dot\")\n",
        "      .attr(\"cx\", d => xScale(d.x))\n",
        "      .attr(\"cy\", d => yScale(d.y))\n",
        "      .attr(\"r\", 5)\n",
        "      .on(\"mouseover\", function() {\n",
        "        d3.select(this).classed(\"active\", true);\n",
        "      })\n",
        "      .on(\"mouseout\", function() {\n",
        "        d3.select(this).classed(\"active\", false);\n",
        "      })\n",
        "      .call(d3.drag()\n",
        "        .on(\"drag\", function(event) {\n",
        "          d3.select(this)\n",
        "            .attr(\"cx\", event.x)\n",
        "            .attr(\"cy\", event.y);\n",
        "        })\n",
        "      );\n",
        "  </script>\n",
        "</body>\n",
        "</html>\n"
      ],
      "metadata": {
        "colab": {
          "base_uri": "https://localhost:8080/",
          "height": 222
        },
        "id": "CC80jfFuuRVj",
        "outputId": "14977143-5304-4eba-c421-2b5d9fc8a46d"
      },
      "execution_count": 16,
      "outputs": [
        {
          "output_type": "display_data",
          "data": {
            "text/plain": [
              "<IPython.core.display.HTML object>"
            ],
            "text/html": [
              "<!DOCTYPE html>\n",
              "<html lang=\"en\">\n",
              "<head>\n",
              "  <meta charset=\"UTF-8\">\n",
              "  <title>D3.js Scatter Plot with Drag and Highlight</title>\n",
              "  <script src=\"https://d3js.org/d3.v7.min.js\"></script>\n",
              "  <style>\n",
              "    .dot {\n",
              "      fill: steelblue;\n",
              "      cursor: pointer;\n",
              "    }\n",
              "    .dot.active {\n",
              "      fill: orange;\n",
              "    }\n",
              "  </style>\n",
              "</head>\n",
              "<body>\n",
              "  <svg width=\"400\" height=\"200\"></svg>\n",
              "\n",
              "  <script>\n",
              "    var data = [\n",
              "      { x: 30, y: 40 },\n",
              "      { x: 70, y: 90 },\n",
              "      { x: 110, y: 20 },\n",
              "      { x: 150, y: 120 },\n",
              "      { x: 190, y: 60 }\n",
              "    ];\n",
              "\n",
              "    var svg = d3.select(\"svg\");\n",
              "\n",
              "    var xScale = d3.scaleLinear()\n",
              "      .domain([0, 200])\n",
              "      .range([0, 400]);\n",
              "\n",
              "    var yScale = d3.scaleLinear()\n",
              "      .domain([0, 120])\n",
              "      .range([200, 0]);\n",
              "\n",
              "    svg.selectAll(\".dot\")\n",
              "      .data(data)\n",
              "      .enter().append(\"circle\")\n",
              "      .attr(\"class\", \"dot\")\n",
              "      .attr(\"cx\", d => xScale(d.x))\n",
              "      .attr(\"cy\", d => yScale(d.y))\n",
              "      .attr(\"r\", 5)\n",
              "      .on(\"mouseover\", function() {\n",
              "        d3.select(this).classed(\"active\", true);\n",
              "      })\n",
              "      .on(\"mouseout\", function() {\n",
              "        d3.select(this).classed(\"active\", false);\n",
              "      })\n",
              "      .call(d3.drag()\n",
              "        .on(\"drag\", function(event) {\n",
              "          d3.select(this)\n",
              "            .attr(\"cx\", event.x)\n",
              "            .attr(\"cy\", event.y);\n",
              "        })\n",
              "      );\n",
              "  </script>\n",
              "</body>\n",
              "</html>\n"
            ]
          },
          "metadata": {}
        }
      ]
    },
    {
      "cell_type": "markdown",
      "source": [
        "**Conclusion:**\n",
        "\n",
        "Sucessfully handled events in d3.js"
      ],
      "metadata": {
        "id": "BIWoQy1wviWc"
      }
    }
  ]
}