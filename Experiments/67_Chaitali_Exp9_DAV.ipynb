{
  "nbformat": 4,
  "nbformat_minor": 0,
  "metadata": {
    "colab": {
      "provenance": []
    },
    "kernelspec": {
      "name": "python3",
      "display_name": "Python 3"
    },
    "language_info": {
      "name": "python"
    }
  },
  "cells": [
    {
      "cell_type": "markdown",
      "source": [
        "Exp9: https://colab.research.google.com/drive/1NGuTLmG92xeVrzW9gLKg-6FjYry7sUcK?usp=sharing"
      ],
      "metadata": {
        "id": "lkWnsOObx1i8"
      }
    },
    {
      "cell_type": "markdown",
      "source": [
        "# **Aim:**\n",
        "Create a World Map with d3.js"
      ],
      "metadata": {
        "id": "4fUdEV6OpRFP"
      }
    },
    {
      "cell_type": "markdown",
      "source": [
        "D3.js facilitates map plotting through GeoProjections, which transform 3D geographic data onto a 2D plane. Using GeoPaths, it generates SVG path data to draw GeoJSON features, enabling the creation of interactive and visually compelling maps. This process allows for the customization of map projections, styles, and interactive elements, providing rich and informative visualizations of geographical data."
      ],
      "metadata": {
        "id": "bgHABUjaq_b6"
      }
    },
    {
      "cell_type": "code",
      "execution_count": null,
      "metadata": {
        "colab": {
          "base_uri": "https://localhost:8080/",
          "height": 869
        },
        "id": "N0Jxb0QEoOWF",
        "outputId": "f8abae9b-cfa7-47cc-efd5-782d977c993a"
      },
      "outputs": [
        {
          "output_type": "display_data",
          "data": {
            "text/plain": [
              "<IPython.core.display.HTML object>"
            ],
            "text/html": [
              "<!DOCTYPE html>\n",
              "<html lang=\"en\">\n",
              "<head>\n",
              "    <meta charset=\"UTF-8\">\n",
              "    <meta name=\"viewport\" content=\"width=device-width, initial-scale=1.0\">\n",
              "    <title>Data-Based D3.js Example</title>\n",
              "    <script src=\"https://d3js.org/d3.v5.min.js\"></script>\n",
              "    <script src=\"https://d3js.org/d3.v5.min.js\"></script>\n",
              "</head>\n",
              "<body>\n",
              "\n",
              "    <h2>World Map in D3</h2>\n",
              "    <div id=\"content\">\n",
              "    <canvas width=\"800\" height=\"800\"></canvas>\n",
              "  </div>\n",
              "\n",
              "    <script>\n",
              "      let geojson = {}\n",
              "\n",
              "let context = d3.select('#content canvas')\n",
              "  .node()\n",
              "  .getContext('2d');\n",
              "\n",
              "let projection = d3.geoOrthographic()\n",
              "  .scale(300);\n",
              "\n",
              "let geoGenerator = d3.geoPath()\n",
              "  .projection(projection)\n",
              "  .pointRadius(4)\n",
              "  .context(context);\n",
              "\n",
              "let yaw = 300;\n",
              "\n",
              "function update() {\n",
              "  projection.rotate([yaw, -45])\n",
              "\n",
              "  context.clearRect(0, 0, 800, 600);\n",
              "\n",
              "  context.lineWidth = 0.5;\n",
              "  context.strokeStyle = '#333';\n",
              "\n",
              "  context.beginPath();\n",
              "  geoGenerator({type: 'FeatureCollection', features: geojson.features})\n",
              "  context.stroke();\n",
              "\n",
              "  // Graticule\n",
              "  let graticule = d3.geoGraticule();\n",
              "  context.beginPath();\n",
              "  context.strokeStyle = '#ccc';\n",
              "  geoGenerator(graticule());\n",
              "  context.stroke();\n",
              "\n",
              "  yaw -= 0.2\n",
              "}\n",
              "\n",
              "\n",
              "\n",
              "// REQUEST DATA\n",
              "d3.json('https://gist.githubusercontent.com/d3indepth/f28e1c3a99ea6d84986f35ac8646fac7/raw/c58cede8dab4673c91a3db702d50f7447b373d98/ne_110m_land.json')\n",
              "\t.then(function(json) {\n",
              "  geojson = json;\n",
              "  window.setInterval(update, 100);\n",
              "})\n",
              "\n",
              "\n",
              "\n",
              "    </script>\n",
              "\n",
              "</body>\n",
              "</html>\n"
            ]
          },
          "metadata": {}
        }
      ],
      "source": [
        "%%html\n",
        "<!DOCTYPE html>\n",
        "<html lang=\"en\">\n",
        "<head>\n",
        "    <meta charset=\"UTF-8\">\n",
        "    <meta name=\"viewport\" content=\"width=device-width, initial-scale=1.0\">\n",
        "    <title>Data-Based D3.js Example</title>\n",
        "    <script src=\"https://d3js.org/d3.v5.min.js\"></script>\n",
        "    <script src=\"https://d3js.org/d3.v5.min.js\"></script>\n",
        "</head>\n",
        "<body>\n",
        "\n",
        "    <h2>World Map in D3</h2>\n",
        "    <div id=\"content\">\n",
        "    <canvas width=\"800\" height=\"800\"></canvas>\n",
        "  </div>\n",
        "\n",
        "    <script>\n",
        "      let geojson = {}\n",
        "\n",
        "let context = d3.select('#content canvas')\n",
        "  .node()\n",
        "  .getContext('2d');\n",
        "\n",
        "let projection = d3.geoOrthographic()\n",
        "  .scale(300);\n",
        "\n",
        "let geoGenerator = d3.geoPath()\n",
        "  .projection(projection)\n",
        "  .pointRadius(4)\n",
        "  .context(context);\n",
        "\n",
        "let yaw = 300;\n",
        "\n",
        "function update() {\n",
        "  projection.rotate([yaw, -45])\n",
        "\n",
        "  context.clearRect(0, 0, 800, 600);\n",
        "\n",
        "  context.lineWidth = 0.5;\n",
        "  context.strokeStyle = '#333';\n",
        "\n",
        "  context.beginPath();\n",
        "  geoGenerator({type: 'FeatureCollection', features: geojson.features})\n",
        "  context.stroke();\n",
        "\n",
        "  // Graticule\n",
        "  let graticule = d3.geoGraticule();\n",
        "  context.beginPath();\n",
        "  context.strokeStyle = '#ccc';\n",
        "  geoGenerator(graticule());\n",
        "  context.stroke();\n",
        "\n",
        "  yaw -= 0.2\n",
        "}\n",
        "\n",
        "\n",
        "\n",
        "// REQUEST DATA\n",
        "d3.json('https://gist.githubusercontent.com/d3indepth/f28e1c3a99ea6d84986f35ac8646fac7/raw/c58cede8dab4673c91a3db702d50f7447b373d98/ne_110m_land.json')\n",
        "\t.then(function(json) {\n",
        "  geojson = json;\n",
        "  window.setInterval(update, 100);\n",
        "})\n",
        "\n",
        "\n",
        "\n",
        "    </script>\n",
        "\n",
        "</body>\n",
        "</html>\n"
      ]
    },
    {
      "cell_type": "markdown",
      "source": [
        "# **Conclusion:**\n",
        "\n",
        "Successfully implemented map using d3.js"
      ],
      "metadata": {
        "id": "89sWRWgxou7W"
      }
    }
  ]
}